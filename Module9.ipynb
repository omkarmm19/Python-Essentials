{
  "nbformat": 4,
  "nbformat_minor": 0,
  "metadata": {
    "colab": {
      "provenance": [],
      "authorship_tag": "ABX9TyOFFiYcwpkTsphTOACkrBke",
      "include_colab_link": true
    },
    "kernelspec": {
      "name": "python3",
      "display_name": "Python 3"
    },
    "language_info": {
      "name": "python"
    }
  },
  "cells": [
    {
      "cell_type": "markdown",
      "metadata": {
        "id": "view-in-github",
        "colab_type": "text"
      },
      "source": [
        "<a href=\"https://colab.research.google.com/github/omkarmm19/Python-Essentials/blob/main/Module9.ipynb\" target=\"_parent\"><img src=\"https://colab.research.google.com/assets/colab-badge.svg\" alt=\"Open In Colab\"/></a>"
      ]
    },
    {
      "cell_type": "code",
      "execution_count": 2,
      "metadata": {
        "id": "3faO05JHb6Y-",
        "colab": {
          "base_uri": "https://localhost:8080/"
        },
        "outputId": "b24ed524-405c-4418-eed8-6167e42f242a"
      },
      "outputs": [
        {
          "output_type": "stream",
          "name": "stdout",
          "text": [
            "Enter the number either of -ve or +ve-99\n",
            "The absolute value is: 99\n"
          ]
        }
      ],
      "source": [
        "def absolute_value():\n",
        "  \"\"\"This function returns the absolute\n",
        "  value of the entered number\"\"\"\n",
        "  num=int(input(\"Enter the number either of -ve or +ve\"))\n",
        "  if num >= 0:\n",
        "    print(\"The absolute value is:\",num)\n",
        "  else:\n",
        "    print(\"The absolute value is:\",-num)\n",
        "\n",
        "absolute_value()"
      ]
    },
    {
      "cell_type": "code",
      "source": [
        "def absolute_value(num):\n",
        "  \"\"\"This function returns the absolute\n",
        "  value of the entered number\"\"\"\n",
        "  if num >= 0:\n",
        "    print(\"The absolute value is:\",num)\n",
        "  else:\n",
        "    print(\"The absolute value is:\",-num)\n",
        "\n",
        "n=int(input(\"Enter the number either of -ve or +ve\"))\n",
        "absolute_value(n)\n"
      ],
      "metadata": {
        "colab": {
          "base_uri": "https://localhost:8080/"
        },
        "id": "ROcsbXVXkY22",
        "outputId": "7e38c72f-fdbd-4eb2-d0ce-d6cfb1f69782"
      },
      "execution_count": 5,
      "outputs": [
        {
          "output_type": "stream",
          "name": "stdout",
          "text": [
            "Enter the number either of -ve or +ve-8\n",
            "The absolute value is: 8\n"
          ]
        }
      ]
    },
    {
      "cell_type": "code",
      "source": [
        "def absolute_value(num):\n",
        "  \"\"\"This function returns the absolute\n",
        "  value of the entered number\"\"\"\n",
        "  if num >= 0:\n",
        "    return num\n",
        "  else:\n",
        "    return -num\n",
        "\n",
        "n=int(input(\"Enter the number either of +ve or -ve\"))\n",
        "print(\"The absolute value is:\",absolute_value(n))"
      ],
      "metadata": {
        "colab": {
          "base_uri": "https://localhost:8080/"
        },
        "id": "95M9QC3UlddN",
        "outputId": "56873e91-87ac-46cf-a727-57c24dabcf41"
      },
      "execution_count": 6,
      "outputs": [
        {
          "output_type": "stream",
          "name": "stdout",
          "text": [
            "Enter the number either of +ve or -ve-88\n",
            "The absolute value is: 88\n"
          ]
        }
      ]
    },
    {
      "cell_type": "code",
      "source": [
        "def add(*b):\n",
        "  result=0\n",
        "  for i in b:\n",
        "    result=result+i\n",
        "  return result\n",
        "\n",
        "print(add(10,20,30,40,50))\n",
        "\n",
        "print(add(10,20,30))\n",
        "\n"
      ],
      "metadata": {
        "colab": {
          "base_uri": "https://localhost:8080/"
        },
        "id": "eM3Tt6ySmqI4",
        "outputId": "006155f8-68d4-410a-9be0-c234527017c2"
      },
      "execution_count": 7,
      "outputs": [
        {
          "output_type": "stream",
          "name": "stdout",
          "text": [
            "150\n",
            "60\n"
          ]
        }
      ]
    },
    {
      "cell_type": "code",
      "source": [
        "def course(**a):\n",
        "  for i in a.items():\n",
        "    print(i)\n",
        "\n",
        "course(year=2021,course=\"Python Essential\",level=\"Beginner\")"
      ],
      "metadata": {
        "colab": {
          "base_uri": "https://localhost:8080/"
        },
        "id": "xC2dAf9bn7Yq",
        "outputId": "bb68d932-6d1f-4aeb-9ddd-6cb41f37cb37"
      },
      "execution_count": 8,
      "outputs": [
        {
          "output_type": "stream",
          "name": "stdout",
          "text": [
            "('year', 2021)\n",
            "('course', 'Python Essential')\n",
            "('level', 'Beginner')\n"
          ]
        }
      ]
    },
    {
      "cell_type": "code",
      "source": [
        "def sum(n):\n",
        "  if n > 1:\n",
        "    return n + sum(n-1)\n",
        "  return 1\n",
        "\n",
        "num=int(input(\"Enter the number: \"))\n",
        "print(\"The sum is:\",sum(num))"
      ],
      "metadata": {
        "colab": {
          "base_uri": "https://localhost:8080/"
        },
        "id": "tkb6zE7UoqLa",
        "outputId": "ff525475-eba3-48bb-f58a-aa351b3d0082"
      },
      "execution_count": 9,
      "outputs": [
        {
          "output_type": "stream",
          "name": "stdout",
          "text": [
            "Enter the number: 5\n",
            "The sum is: 15\n"
          ]
        }
      ]
    },
    {
      "cell_type": "code",
      "source": [],
      "metadata": {
        "id": "NQJYm-DGwKal"
      },
      "execution_count": null,
      "outputs": []
    }
  ]
}