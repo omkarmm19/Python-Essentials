{
  "nbformat": 4,
  "nbformat_minor": 0,
  "metadata": {
    "colab": {
      "provenance": [],
      "authorship_tag": "ABX9TyOsNoVSwP00Yh9iVnMoYd6Q",
      "include_colab_link": true
    },
    "kernelspec": {
      "name": "python3",
      "display_name": "Python 3"
    },
    "language_info": {
      "name": "python"
    }
  },
  "cells": [
    {
      "cell_type": "markdown",
      "metadata": {
        "id": "view-in-github",
        "colab_type": "text"
      },
      "source": [
        "<a href=\"https://colab.research.google.com/github/omkarmm19/Python-Essentials/blob/main/Module12.ipynb\" target=\"_parent\"><img src=\"https://colab.research.google.com/assets/colab-badge.svg\" alt=\"Open In Colab\"/></a>"
      ]
    },
    {
      "cell_type": "code",
      "execution_count": null,
      "metadata": {
        "colab": {
          "base_uri": "https://localhost:8080/"
        },
        "id": "xHFuYUkOwMJC",
        "outputId": "bd3f3c67-af70-4563-d259-730016475afb"
      },
      "outputs": [
        {
          "output_type": "stream",
          "name": "stdout",
          "text": [
            "The best on the go gamer's laptop: Acers Predator Triton 300\n"
          ]
        }
      ],
      "source": [
        "class laptop:\n",
        "  name='Acers Predator Triton 300'\n",
        "print(\"The best on the go gamer's laptop:\",laptop.name)"
      ]
    },
    {
      "cell_type": "code",
      "source": [
        "class ComplexNumber:\n",
        "  def __init__(com_add,r,i):\n",
        "    com_add.real=r\n",
        "    com_add.imag=i\n",
        "  def get_data(com_add):\n",
        "    print(\"The Complex Number:\",com_add.real,'+',num1.imag+num2.imag,'j')\n",
        "  def add_data(com_add):\n",
        "    print(\"The addition is:\",num1.real+num2.real,'+',num1.imag+num2.imag,'j')\n",
        "\n",
        "real,imag=map(int,input(\"Enter the real and imaginary parts:\").split())\n",
        "num1=ComplexNumber(real,imag)\n",
        "real,imag=map(int,input(\"Enter the real and imaginary parts:\").split())\n",
        "num2=ComplexNumber(real,imag)\n",
        "\n",
        "num1.get_data()\n",
        "num2.get_data()\n",
        "num1.add_data()\n",
        "num2.add_data()\n"
      ],
      "metadata": {
        "id": "L6Bm_jU710bH",
        "colab": {
          "base_uri": "https://localhost:8080/"
        },
        "outputId": "966eb8f0-e003-41af-da6b-5b02b18c5a2c"
      },
      "execution_count": 7,
      "outputs": [
        {
          "output_type": "stream",
          "name": "stdout",
          "text": [
            "Enter the real and imaginary parts:85 75\n",
            "Enter the real and imaginary parts:41 44 \n",
            "The Complex Number: 85 + 119 j\n",
            "The Complex Number: 41 + 119 j\n",
            "The addition is: 126 + 119 j\n",
            "The addition is: 126 + 119 j\n"
          ]
        }
      ]
    },
    {
      "cell_type": "code",
      "source": [
        "class OnlineStudent:\n",
        "  platform=\"Vityarthi\"\n",
        "  def __init__(self,name,m1,m2,m3):\n",
        "    self.name=name\n",
        "    self.m1=m1\n",
        "    self.m2=m2\n",
        "    self.m3=m3\n",
        "\n",
        "  def average(self):\n",
        "    return((self.m1+self.m2+self.m3)/3)\n",
        "  def get_data(self):\n",
        "    return(self.name,self.m1,self.m2,self.m3)\n",
        "  def modify_data(self,name,mark):\n",
        "    self.name=name\n",
        "    self.m1=mark"
      ],
      "metadata": {
        "id": "o-3h6K18_EbI"
      },
      "execution_count": 5,
      "outputs": []
    },
    {
      "cell_type": "code",
      "source": [
        "m1,m2,m3=map(int,input(\"Enter the mark for three subjects:\").split())\n",
        "student1=OnlineStudent('Jesse',m1,m2,m3)\n",
        "m1,m2,m3=map(int,input(\"Enter the marks for the three subjects:\").split())\n",
        "student2=OnlineStudent('Jose',m1,m2,m3)\n",
        "print(OnlineStudent.platform,\"Students score card\")\n",
        "print(\"The Student 1 Average is\",student1.average())\n",
        "print(\"The Student 2 Average is\",student2.average())\n",
        "print(\"The Student1 details are accessed\",student1.get_data())\n",
        "print(\"The Student2 detauls before modification\",student2.get_data())\n",
        "student2.modify_data('David',100)\n",
        "print(\"The Student2 details after modification\",student2.get_data())\n"
      ],
      "metadata": {
        "colab": {
          "base_uri": "https://localhost:8080/"
        },
        "id": "ja6zjUMMTDP7",
        "outputId": "e10df790-8207-4387-a9b8-3e6688013ae6"
      },
      "execution_count": 6,
      "outputs": [
        {
          "output_type": "stream",
          "name": "stdout",
          "text": [
            "Enter the mark for three subjects:85 78 95\n",
            "Enter the marks for the three subjects:25 45 75 \n",
            "Vityarthi Students score card\n",
            "The Student 1 Average is 86.0\n",
            "The Student 2 Average is 48.333333333333336\n",
            "The Student1 details are accessed ('Jesse', 85, 78, 95)\n",
            "The Student2 detauls before modification ('Jose', 25, 45, 75)\n",
            "The Student2 details after modification ('David', 100, 45, 75)\n"
          ]
        }
      ]
    },
    {
      "cell_type": "code",
      "source": [
        "class Add_class:\n",
        "\n",
        "  def __init__(self,a,b):\n",
        "    self.a=a\n",
        "    self.b=b\n",
        "\n",
        "  def instance_method(self):\n",
        "    return(self.a+self.b)\n",
        "\n",
        "print(\"Demo for the use of instance method\")\n",
        "x,y=map(int,input(\"Enter two Numbers\").split())\n",
        "obj=Add_class(x,y)\n",
        "print(\"The Addition is\",obj.instance_method())"
      ],
      "metadata": {
        "colab": {
          "base_uri": "https://localhost:8080/"
        },
        "id": "KPlDxJeEZVDj",
        "outputId": "6858f15d-1cbb-4ef3-8062-38d315cd54c1"
      },
      "execution_count": 4,
      "outputs": [
        {
          "output_type": "stream",
          "name": "stdout",
          "text": [
            "Demo for the use of instance method\n",
            "Enter two Numbers58 45\n",
            "The Addition is 103\n"
          ]
        }
      ]
    },
    {
      "cell_type": "code",
      "source": [
        "class OnlineStudent:\n",
        "    platform = \"Vityarthi\"\n",
        "\n",
        "    def __init__(self, name, m1, m2, m3):\n",
        "        self.name = name\n",
        "        self.m1 = m1\n",
        "        self.m2 = m2\n",
        "        self.m3 = m3\n",
        "\n",
        "    def average(self):\n",
        "        return (self.m1 + self.m2 + self.m3) / 3\n",
        "\n",
        "    @classmethod\n",
        "    def platform_name(cls):\n",
        "        return cls.platform\n",
        "\n",
        "student1 = OnlineStudent('Ram', 56, 67, 78)\n",
        "student2 = OnlineStudent('Krish', 67, 78, 89)\n",
        "\n",
        "print(OnlineStudent.platform_name(), \"Student's Score Card\")\n",
        "\n",
        "print(\"The Student 1 Average is\", student1.average())\n",
        "print(\"The Student 2 Average is\", student2.average())\n",
        "print(\"Platform:\", student1.platform_name())"
      ],
      "metadata": {
        "colab": {
          "base_uri": "https://localhost:8080/"
        },
        "id": "2_7gI6IZd6Fw",
        "outputId": "f4cecf6d-67c2-4624-ce3e-80837cb689d2"
      },
      "execution_count": null,
      "outputs": [
        {
          "output_type": "stream",
          "name": "stdout",
          "text": [
            "Vityarthi Student's Score Card\n",
            "The Student 1 Average is 67.0\n",
            "The Student 2 Average is 78.0\n",
            "Platform: Vityarthi\n"
          ]
        }
      ]
    },
    {
      "cell_type": "code",
      "source": [
        "class OnlineStudent:\n",
        "    platform = \"Vityarthi\"\n",
        "\n",
        "    def __init__(self, name, m1, m2, m3):\n",
        "        self.name = name\n",
        "        self.m1 = m1\n",
        "        self.m2 = m2\n",
        "        self.m3 = m3\n",
        "\n",
        "    def average(self):\n",
        "        return (self.m1 + self.m2 + self.m3) / 3\n",
        "\n",
        "    @classmethod\n",
        "    def platform_name(cls):\n",
        "        return cls.platform\n",
        "\n",
        "student1 = OnlineStudent('Ram', 56, 67, 78)\n",
        "student2 = OnlineStudent('Krish', 67, 78, 89)\n",
        "\n",
        "OnlineStudent.platform_name=classmethod(OnlineStudent.platform_name)\n",
        "OnlineStudent.platform_name()\n",
        "print(\"The Student 1 Average is\", student1.average())\n",
        "print(\"The Student 2 Average is\", student2.average())"
      ],
      "metadata": {
        "colab": {
          "base_uri": "https://localhost:8080/"
        },
        "id": "B93G_POzeGzm",
        "outputId": "813cbfc6-f9ae-418b-a44e-e9b9c60b26cf"
      },
      "execution_count": null,
      "outputs": [
        {
          "output_type": "stream",
          "name": "stdout",
          "text": [
            "The Student 1 Average is 67.0\n",
            "The Student 2 Average is 78.0\n"
          ]
        }
      ]
    },
    {
      "cell_type": "code",
      "source": [
        "class OnlineStudent:\n",
        "  platform=\"Vityarthi\"\n",
        "\n",
        "  @staticmethod\n",
        "  def add(m1,m2,m3):\n",
        "    return(m1+m2+m3)\n",
        "\n",
        "  @classmethod\n",
        "  def avg(cls,m1,m2,m3):\n",
        "    sum=cls.add(m1,m2,m3)\n",
        "    return(sum/3)\n",
        "\n",
        "m1,m2,m3=map(int,input(\"Enter the marks of three subjects:\").split())\n",
        "average=OnlineStudent.avg(m1,m2,m3)\n",
        "print('The average mark of the student is=',average)\n",
        "\n",
        ""
      ],
      "metadata": {
        "id": "HpSwdS2De1ML",
        "colab": {
          "base_uri": "https://localhost:8080/"
        },
        "outputId": "27e81d43-d680-4d7c-906d-affdf05de055"
      },
      "execution_count": 2,
      "outputs": [
        {
          "output_type": "stream",
          "name": "stdout",
          "text": [
            "Enter the marks of three subjects:58 58 98\n",
            "The average mark of the student is= 71.33333333333333\n"
          ]
        }
      ]
    },
    {
      "cell_type": "code",
      "source": [
        "class AddTwoNumbers:\n",
        "\n",
        "  def __init__(self, n1, n2):\n",
        "    self.n1 = n1\n",
        "    self.n2 = n2\n",
        "\n",
        "  def add2(self):\n",
        "    print(\"Sum of two numbers:\", self.n1 + self.n2)\n",
        "\n",
        "class AddThreeNumbers(AddTwoNumbers):\n",
        "\n",
        "  def __init__(self, n1, n2, n3):\n",
        "    super().__init__(n1, n2)\n",
        "    self.n3 = n3\n",
        "\n",
        "  def add3(self):\n",
        "    print(\"Sum of three numbers:\", self.n1 + self.n2 + self.n3)\n",
        "\n",
        "operation2 = AddTwoNumbers(10, 20)\n",
        "operation1 = AddThreeNumbers(100, 200, 300)\n",
        "\n",
        "operation2.add2()\n",
        "operation1.add2()\n",
        "operation1.add3()\n"
      ],
      "metadata": {
        "colab": {
          "base_uri": "https://localhost:8080/"
        },
        "id": "HaRKmtIdWaLL",
        "outputId": "d748ab11-f8f9-4b1b-9141-912585372b7b"
      },
      "execution_count": 5,
      "outputs": [
        {
          "output_type": "stream",
          "name": "stdout",
          "text": [
            "Sum of two numbers: 30\n",
            "Sum of two numbers: 300\n",
            "Sum of three numbers: 600\n"
          ]
        }
      ]
    },
    {
      "cell_type": "code",
      "source": [
        "class Father:\n",
        "    def fname(self):\n",
        "        print(\"Father Ram\")\n",
        "\n",
        "class Mother:\n",
        "    def mname(self):\n",
        "        print(\"Mother Sita\")\n",
        "\n",
        "class Twin_Sons(Father, Mother):\n",
        "    def sname(self):\n",
        "        print(\"Twin Sons: Lava and Kusha\")\n",
        "\n",
        "print(\"Family Tree\")\n",
        "c1 = Twin_Sons()\n",
        "c1.fname()\n",
        "c1.mname()  # Accessing the method from Mother class\n",
        "c1.sname()"
      ],
      "metadata": {
        "colab": {
          "base_uri": "https://localhost:8080/"
        },
        "id": "v-8TfIYNEQWR",
        "outputId": "65c3599c-6603-46ea-86a4-1c3c509a3d26"
      },
      "execution_count": 10,
      "outputs": [
        {
          "output_type": "stream",
          "name": "stdout",
          "text": [
            "Family Tree\n",
            "Father Ram\n",
            "Mother Sita\n",
            "Twin Sons: Lava and Kusha\n"
          ]
        }
      ]
    },
    {
      "cell_type": "code",
      "source": [
        "print(10*5)\n",
        "print(\"vityarthi\"*3)"
      ],
      "metadata": {
        "colab": {
          "base_uri": "https://localhost:8080/"
        },
        "id": "d9h_L-80BfWx",
        "outputId": "47312d51-595b-46bf-941e-ff38a0d9c3b2"
      },
      "execution_count": 6,
      "outputs": [
        {
          "output_type": "stream",
          "name": "stdout",
          "text": [
            "50\n",
            "vityarthivityarthivityarthi\n"
          ]
        }
      ]
    },
    {
      "cell_type": "code",
      "source": [
        "print(10+5)\n",
        "print(\"vityarthi\"+\"\"+\"Online Learning Platform\")"
      ],
      "metadata": {
        "colab": {
          "base_uri": "https://localhost:8080/"
        },
        "id": "ksUNMC3zCJIC",
        "outputId": "e1863315-7641-4a39-821b-5cdbc7d20cb3"
      },
      "execution_count": 9,
      "outputs": [
        {
          "output_type": "stream",
          "name": "stdout",
          "text": [
            "15\n",
            "vityarthiOnline Learning Platform\n"
          ]
        }
      ]
    },
    {
      "cell_type": "markdown",
      "source": [
        "print(len([\"Python\",\"R\",\"Julia\"]))\n",
        "print(len({\"Course\":\"Python\",\"Marks\":88}))\n",
        "print(len(\"Python\"))\n",
        "print(len([11,22,33,44,55,34,230,142]))\n",
        ""
      ],
      "metadata": {
        "id": "pKrxkJ2nEULb"
      }
    },
    {
      "cell_type": "code",
      "source": [
        "print(len([\"Python\",\"R\",\"Julia\"]))\n",
        "print(len({\"Course\":\"Python\",\"Marks\":88}))\n",
        "print(len(\"Python\"))\n",
        "print(len([11,22,33,44,55,34,230,142]))"
      ],
      "metadata": {
        "colab": {
          "base_uri": "https://localhost:8080/"
        },
        "id": "w-2pUYnGHyGY",
        "outputId": "cad08372-d3af-4ced-f1f0-771c77e9c0d0"
      },
      "execution_count": 12,
      "outputs": [
        {
          "output_type": "stream",
          "name": "stdout",
          "text": [
            "3\n",
            "2\n",
            "6\n",
            "8\n"
          ]
        }
      ]
    },
    {
      "cell_type": "code",
      "source": [
        "class Rectangle:\n",
        "  def __init__(self):\n",
        "    self.l=int(input(\"Enter the base\"))\n",
        "    self.b=int(input(\"Enter the height\"))\n",
        "\n",
        "  def area(self):\n",
        "    return self.l*self.b\n",
        "\n",
        "class Square:\n",
        "  def __init__(self):\n",
        "    self.s=int(input(\"Enter the side\"))\n",
        "  def area(self):\n",
        "    return self.s**2\n",
        "\n",
        "rec=Rectangle()\n",
        "squ=Square()\n",
        "print(\"Area of rectangle is: \",rec.area())\n",
        "print(\"Area of rectangle is: \",squ.area())"
      ],
      "metadata": {
        "colab": {
          "base_uri": "https://localhost:8080/"
        },
        "id": "u8U5v0wnH1FX",
        "outputId": "08ae612d-45ae-4caf-c55b-bd148e8e3cd2"
      },
      "execution_count": 15,
      "outputs": [
        {
          "output_type": "stream",
          "name": "stdout",
          "text": [
            "Enter the base8\n",
            "Enter the height5\n",
            "Enter the side5\n",
            "Area of rectangle is:  40\n",
            "Area of rectangle is:  25\n"
          ]
        }
      ]
    },
    {
      "cell_type": "code",
      "source": [
        "class Coordinate_Point:\n",
        "  def __init__(self,x=0,y=0):\n",
        "    self.x=x\n",
        "    self.y=y\n",
        "\n",
        "  def __add__(self,other):\n",
        "    print(\"self.x: \",self.x)\n",
        "    print(\"self.y: \",self.y)\n",
        "    print(\"other.x: \",other.x)\n",
        "    print(\"other.y: \",other.y)\n",
        "    x = self.x + other.x\n",
        "    y = self.y + other.y\n",
        "    return(x,y)\n",
        "\n",
        "p1=Coordinate_Point(10,20)\n",
        "p2=Coordinate_Point(12,13)\n",
        "\n",
        "print(\"The addition of two consecutive poinmts are:\",p1+p2)\n"
      ],
      "metadata": {
        "colab": {
          "base_uri": "https://localhost:8080/"
        },
        "id": "8UveawoHKR-1",
        "outputId": "94d26e5f-914b-486d-dea8-2b6f0d3b6dd7"
      },
      "execution_count": 18,
      "outputs": [
        {
          "output_type": "stream",
          "name": "stdout",
          "text": [
            "self.x:  10\n",
            "self.y:  20\n",
            "other.x:  12\n",
            "other.y:  13\n",
            "The addition of two consecutive poinmts are: (22, 33)\n"
          ]
        }
      ]
    },
    {
      "cell_type": "code",
      "source": [
        "from abc import ABC, abstractmethod\n",
        "class AREA(ABC):\n",
        "  def calculation(self):\n",
        "    pass\n",
        "class Square:\n",
        "  def calculation(self):\n",
        "    a=float(input(\"Enter the side\"))\n",
        "    print(\"The area of square is:\",a*a)\n",
        "class Rectangle:\n",
        "  def calculation(self):\n",
        "    a=float(input(\"Enter the length\"))\n",
        "    b=float(input(\"Enter the breadth\"))\n",
        "    print(\"The area of rectangle is:\",a*b)\n",
        "class Circle:\n",
        "  def calculation(self):\n",
        "    r=float(input(\"Enter the radius\"))\n",
        "    print(\"The area of circle is:\",3.14*r*r)\n",
        "\n",
        "t=Square()\n",
        "t.calculation()\n",
        "\n",
        "r=Rectangle()\n",
        "r.calculation()\n",
        "\n",
        "s=Circle()\n",
        "s.calculation()"
      ],
      "metadata": {
        "colab": {
          "base_uri": "https://localhost:8080/"
        },
        "id": "IgN3iNOyMHLW",
        "outputId": "11db2334-02ce-4b12-c4bc-2c32b674cf7f"
      },
      "execution_count": 20,
      "outputs": [
        {
          "output_type": "stream",
          "name": "stdout",
          "text": [
            "Enter the side5\n",
            "The area of square is: 25.0\n",
            "Enter the length87\n",
            "Enter the breadth85\n",
            "The area of rectangle is: 7395.0\n",
            "Enter the radius787\n",
            "The area of circle is: 1944818.6600000001\n"
          ]
        }
      ]
    },
    {
      "cell_type": "code",
      "source": [
        "class Base:\n",
        "    def __init__(self):\n",
        "        self.a = 20\n",
        "        self.b = 30\n",
        "\n",
        "class Derived(Base):\n",
        "    def __init__(self):\n",
        "        Base.__init__(self)\n",
        "        print(\"Accessing protected member of a base class\")\n",
        "        print(self.b + self.a)\n",
        "\n",
        "obj1 = Derived()\n",
        "obj2 = Base()\n",
        "\n",
        "print(\"Printing the class variable outside the class\", obj2.a)\n",
        "print(\"Printing the class variable outside the class\", obj2.b)\n",
        "print(\"Printing the class variable outside the class\", obj1.a)\n",
        "print(\"Printing the class variable outside the class\", obj1.b)"
      ],
      "metadata": {
        "colab": {
          "base_uri": "https://localhost:8080/"
        },
        "id": "zAvPaN96Q21-",
        "outputId": "ecc3a9a0-773f-4ff5-edf5-75200a3938a7"
      },
      "execution_count": 23,
      "outputs": [
        {
          "output_type": "stream",
          "name": "stdout",
          "text": [
            "Accessing protected member of a base class\n",
            "50\n",
            "Printing the class variable outside the class 20\n",
            "Printing the class variable outside the class 30\n",
            "Printing the class variable outside the class 20\n",
            "Printing the class variable outside the class 30\n"
          ]
        }
      ]
    }
  ]
}