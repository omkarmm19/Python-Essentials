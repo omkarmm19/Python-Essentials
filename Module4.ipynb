{
  "nbformat": 4,
  "nbformat_minor": 0,
  "metadata": {
    "colab": {
      "provenance": [],
      "authorship_tag": "ABX9TyNvcKiCu9VPrV7j0hnGvUii",
      "include_colab_link": true
    },
    "kernelspec": {
      "name": "python3",
      "display_name": "Python 3"
    },
    "language_info": {
      "name": "python"
    }
  },
  "cells": [
    {
      "cell_type": "markdown",
      "metadata": {
        "id": "view-in-github",
        "colab_type": "text"
      },
      "source": [
        "<a href=\"https://colab.research.google.com/github/omkarmm19/Python-Essentials/blob/main/Module4.ipynb\" target=\"_parent\"><img src=\"https://colab.research.google.com/assets/colab-badge.svg\" alt=\"Open In Colab\"/></a>"
      ]
    },
    {
      "cell_type": "code",
      "execution_count": 6,
      "metadata": {
        "colab": {
          "base_uri": "https://localhost:8080/",
          "height": 0
        },
        "id": "X7bKW3JThPif",
        "outputId": "69afddfb-52ff-4d49-fba2-8de4cf7f0f58"
      },
      "outputs": [
        {
          "output_type": "stream",
          "name": "stdout",
          "text": [
            "Enter the value:5\n",
            "Enter the value:8\n",
            "The value of a is: 8\n",
            "The value of b is: 5\n"
          ]
        }
      ],
      "source": [
        "a=int(input(\"Enter the value:\"))\n",
        "b=int(input(\"Enter the value:\"))\n",
        "c=a\n",
        "a=b\n",
        "b=c\n",
        "print(\"The value of a is:\",a)\n",
        "print(\"The value of b is:\",b)\n"
      ]
    },
    {
      "cell_type": "code",
      "source": [
        "x=int(input(\"Enter the value: \"))\n",
        "y=int(input(\"Enter the value: \"))\n",
        "x,y=x,y\n",
        "print(\"The value of x is:\",x)\n",
        "print(\"The value of y is:\",y)\n"
      ],
      "metadata": {
        "colab": {
          "base_uri": "https://localhost:8080/",
          "height": 0
        },
        "id": "wPxNYwwmhpSy",
        "outputId": "13daac9b-134b-4547-bbbc-83012430f9bb"
      },
      "execution_count": 7,
      "outputs": [
        {
          "output_type": "stream",
          "name": "stdout",
          "text": [
            "Enter the value: 5\n",
            "Enter the value: 4\n",
            "The value of x is: 5\n",
            "The value of y is: 4\n"
          ]
        }
      ]
    },
    {
      "cell_type": "code",
      "source": [
        "x=int(input(\"Enter the value: \"))\n",
        "y=int(input(\"Enter the value: \"))\n",
        "t = x + y\n",
        "x = t - x\n",
        "y = t - y\n",
        "print(\"The value of x is:\",x)\n",
        "print(\"The value of y is:\",y)\n"
      ],
      "metadata": {
        "colab": {
          "base_uri": "https://localhost:8080/",
          "height": 0
        },
        "id": "-ANpdqPAnB2E",
        "outputId": "5f593fbe-cf59-4720-b4d3-f3f5cb1ad41e"
      },
      "execution_count": 9,
      "outputs": [
        {
          "output_type": "stream",
          "name": "stdout",
          "text": [
            "Enter the value: 9\n",
            "Enter the value: 2\n",
            "The value of x is: 2\n",
            "The value of y is: 9\n"
          ]
        }
      ]
    },
    {
      "cell_type": "code",
      "source": [
        "name=input(\"Enter your name: \")\n",
        "print(name)\n"
      ],
      "metadata": {
        "colab": {
          "base_uri": "https://localhost:8080/",
          "height": 0
        },
        "id": "0hUiK8Krnjje",
        "outputId": "fd0d4db9-6eac-4a97-8738-5000a3776c9e"
      },
      "execution_count": 12,
      "outputs": [
        {
          "output_type": "stream",
          "name": "stdout",
          "text": [
            "Enter your name: Omkar\n",
            "Omkar\n"
          ]
        }
      ]
    },
    {
      "cell_type": "code",
      "source": [
        "a=int(input(\"Enter first number: \"))\n",
        "b=int(input(\"Enter second number: \"))\n",
        "sum = a + b\n",
        "print(\"sum: \", sum)"
      ],
      "metadata": {
        "colab": {
          "base_uri": "https://localhost:8080/",
          "height": 0
        },
        "id": "bK4h-DDOoVXO",
        "outputId": "f2a52386-4799-4628-d6d5-b3155c638775"
      },
      "execution_count": 14,
      "outputs": [
        {
          "output_type": "stream",
          "name": "stdout",
          "text": [
            "Enter first number: 8\n",
            "Enter second number: 8\n",
            "sum:  16\n"
          ]
        }
      ]
    },
    {
      "cell_type": "code",
      "source": [
        "print('I Love {0} and {1}'.format('Myself','Someone'))"
      ],
      "metadata": {
        "colab": {
          "base_uri": "https://localhost:8080/"
        },
        "id": "fUaefEkpow2D",
        "outputId": "8bcd74ac-352a-4622-e702-14889707286d"
      },
      "execution_count": 20,
      "outputs": [
        {
          "output_type": "stream",
          "name": "stdout",
          "text": [
            "I Love Myself and Someone\n"
          ]
        }
      ]
    },
    {
      "cell_type": "code",
      "source": [
        "print('I Love {1} and {0}'.format('Myself','Someone'))"
      ],
      "metadata": {
        "colab": {
          "base_uri": "https://localhost:8080/"
        },
        "id": "K9woA12QqTlr",
        "outputId": "6a00baf4-8d3d-4648-8ae2-9403ca09f127"
      },
      "execution_count": 21,
      "outputs": [
        {
          "output_type": "stream",
          "name": "stdout",
          "text": [
            "I Love Someone and Myself\n"
          ]
        }
      ]
    },
    {
      "cell_type": "code",
      "source": [
        "print('I care for {0} '.format('Someone !'))"
      ],
      "metadata": {
        "colab": {
          "base_uri": "https://localhost:8080/"
        },
        "id": "N5oYyfpbqs2b",
        "outputId": "2924caab-aa10-4d43-99dd-77f1d1a6087c"
      },
      "execution_count": 28,
      "outputs": [
        {
          "output_type": "stream",
          "name": "stdout",
          "text": [
            "I care for Someone ! \n"
          ]
        }
      ]
    },
    {
      "cell_type": "code",
      "source": [
        "print('Do that Someone even care about {0} '.format('Me ?'))"
      ],
      "metadata": {
        "colab": {
          "base_uri": "https://localhost:8080/"
        },
        "id": "OCPJXwkcqyzX",
        "outputId": "6d6e4fdf-b0f1-462f-d551-af79913ac585"
      },
      "execution_count": 49,
      "outputs": [
        {
          "output_type": "stream",
          "name": "stdout",
          "text": [
            "Do that Someone even care about Me ? \n"
          ]
        }
      ]
    },
    {
      "cell_type": "code",
      "source": [
        "print('Hello {name},{greeting}'.format(greeting= 'Good Morning', name= 'Omkar'))"
      ],
      "metadata": {
        "colab": {
          "base_uri": "https://localhost:8080/"
        },
        "id": "Yp4ho0UvsgUD",
        "outputId": "9280d3e3-0010-4e8b-a195-e8f2662f8dcf"
      },
      "execution_count": 37,
      "outputs": [
        {
          "output_type": "stream",
          "name": "stdout",
          "text": [
            "Hello Omkar,Good Morning\n"
          ]
        }
      ]
    },
    {
      "cell_type": "code",
      "source": [
        "text=\"I love Python\"\n",
        "x = text.split(\" \")\n",
        "print(x)"
      ],
      "metadata": {
        "colab": {
          "base_uri": "https://localhost:8080/"
        },
        "id": "Uzykpygvt6GU",
        "outputId": "561406fb-1e1b-46aa-f26f-28796fa841ea"
      },
      "execution_count": 41,
      "outputs": [
        {
          "output_type": "stream",
          "name": "stdout",
          "text": [
            "['I', 'love', 'Python']\n"
          ]
        }
      ]
    },
    {
      "cell_type": "code",
      "source": [
        "length = float(input(\"Enter the length: \"))\n",
        "breadth = float(input(\"Enter the breadth: \"))\n",
        "area = length*breadth\n",
        "print(\"The calculated area of the rectangle is: \",format(area,\"10.2f\"))\n"
      ],
      "metadata": {
        "colab": {
          "base_uri": "https://localhost:8080/"
        },
        "id": "cUgHEVUJuV-O",
        "outputId": "df7eb99f-0822-41f0-8984-7b1ae1ccdf69"
      },
      "execution_count": 47,
      "outputs": [
        {
          "output_type": "stream",
          "name": "stdout",
          "text": [
            "Enter the length: 97\n",
            "Enter the breadth: 5\n",
            "The calculated area of the rectangle is:      485.00\n"
          ]
        }
      ]
    },
    {
      "cell_type": "code",
      "source": [
        "print(\"Enter the side length of square: \")\n",
        "l=float(input())\n",
        "a=l*l\n",
        "print(\"\\nArea= \",a)"
      ],
      "metadata": {
        "colab": {
          "base_uri": "https://localhost:8080/"
        },
        "id": "bmIT-FfLwpLA",
        "outputId": "a25c8ec9-a011-4488-d49f-9c95c2df4858"
      },
      "execution_count": 51,
      "outputs": [
        {
          "output_type": "stream",
          "name": "stdout",
          "text": [
            "Enter the side length of square: \n",
            "5\n",
            "\n",
            "Area=  25.0\n"
          ]
        }
      ]
    }
  ]
}