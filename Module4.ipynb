{
  "nbformat": 4,
  "nbformat_minor": 0,
  "metadata": {
    "colab": {
      "provenance": [],
      "authorship_tag": "ABX9TyMOxyiiWM5uEHt6qw1gU8Rp",
      "include_colab_link": true
    },
    "kernelspec": {
      "name": "python3",
      "display_name": "Python 3"
    },
    "language_info": {
      "name": "python"
    }
  },
  "cells": [
    {
      "cell_type": "markdown",
      "metadata": {
        "id": "view-in-github",
        "colab_type": "text"
      },
      "source": [
        "<a href=\"https://colab.research.google.com/github/omkarmm19/Python-Essentials/blob/main/Module4.ipynb\" target=\"_parent\"><img src=\"https://colab.research.google.com/assets/colab-badge.svg\" alt=\"Open In Colab\"/></a>"
      ]
    },
    {
      "cell_type": "code",
      "execution_count": null,
      "metadata": {
        "colab": {
          "base_uri": "https://localhost:8080/"
        },
        "id": "X7bKW3JThPif",
        "outputId": "69afddfb-52ff-4d49-fba2-8de4cf7f0f58"
      },
      "outputs": [
        {
          "output_type": "stream",
          "name": "stdout",
          "text": [
            "Enter the value:5\n",
            "Enter the value:8\n",
            "The value of a is: 8\n",
            "The value of b is: 5\n"
          ]
        }
      ],
      "source": [
        "a=int(input(\"Enter the value:\"))\n",
        "b=int(input(\"Enter the value:\"))\n",
        "c=a\n",
        "a=b\n",
        "b=c\n",
        "print(\"The value of a is:\",a)\n",
        "print(\"The value of b is:\",b)\n"
      ]
    },
    {
      "cell_type": "code",
      "source": [
        "x=int(input(\"Enter the value: \"))\n",
        "y=int(input(\"Enter the value: \"))\n",
        "x,y=x,y\n",
        "print(\"The value of x is:\",x)\n",
        "print(\"The value of y is:\",y)\n"
      ],
      "metadata": {
        "colab": {
          "base_uri": "https://localhost:8080/"
        },
        "id": "wPxNYwwmhpSy",
        "outputId": "13daac9b-134b-4547-bbbc-83012430f9bb"
      },
      "execution_count": null,
      "outputs": [
        {
          "output_type": "stream",
          "name": "stdout",
          "text": [
            "Enter the value: 5\n",
            "Enter the value: 4\n",
            "The value of x is: 5\n",
            "The value of y is: 4\n"
          ]
        }
      ]
    },
    {
      "cell_type": "code",
      "source": [
        "x=int(input(\"Enter the value: \"))\n",
        "y=int(input(\"Enter the value: \"))\n",
        "t = x + y\n",
        "x = t - x\n",
        "y = t - y\n",
        "print(\"The value of x is:\",x)\n",
        "print(\"The value of y is:\",y)\n"
      ],
      "metadata": {
        "colab": {
          "base_uri": "https://localhost:8080/"
        },
        "id": "-ANpdqPAnB2E",
        "outputId": "5f593fbe-cf59-4720-b4d3-f3f5cb1ad41e"
      },
      "execution_count": null,
      "outputs": [
        {
          "output_type": "stream",
          "name": "stdout",
          "text": [
            "Enter the value: 9\n",
            "Enter the value: 2\n",
            "The value of x is: 2\n",
            "The value of y is: 9\n"
          ]
        }
      ]
    },
    {
      "cell_type": "code",
      "source": [
        "name=input(\"Enter your name: \")\n",
        "print(name)\n"
      ],
      "metadata": {
        "colab": {
          "base_uri": "https://localhost:8080/"
        },
        "id": "0hUiK8Krnjje",
        "outputId": "fd0d4db9-6eac-4a97-8738-5000a3776c9e"
      },
      "execution_count": null,
      "outputs": [
        {
          "output_type": "stream",
          "name": "stdout",
          "text": [
            "Enter your name: Omkar\n",
            "Omkar\n"
          ]
        }
      ]
    },
    {
      "cell_type": "code",
      "source": [
        "a=int(input(\"Enter first number: \"))\n",
        "b=int(input(\"Enter second number: \"))\n",
        "sum = a + b\n",
        "print(\"sum: \", sum)"
      ],
      "metadata": {
        "colab": {
          "base_uri": "https://localhost:8080/"
        },
        "id": "bK4h-DDOoVXO",
        "outputId": "f2a52386-4799-4628-d6d5-b3155c638775"
      },
      "execution_count": null,
      "outputs": [
        {
          "output_type": "stream",
          "name": "stdout",
          "text": [
            "Enter first number: 8\n",
            "Enter second number: 8\n",
            "sum:  16\n"
          ]
        }
      ]
    },
    {
      "cell_type": "code",
      "source": [
        "print('I Love {0} and {1}'.format('Myself','Someone'))"
      ],
      "metadata": {
        "colab": {
          "base_uri": "https://localhost:8080/"
        },
        "id": "fUaefEkpow2D",
        "outputId": "8bcd74ac-352a-4622-e702-14889707286d"
      },
      "execution_count": null,
      "outputs": [
        {
          "output_type": "stream",
          "name": "stdout",
          "text": [
            "I Love Myself and Someone\n"
          ]
        }
      ]
    },
    {
      "cell_type": "code",
      "source": [
        "print('I Love {1} and {0}'.format('Myself','Someone'))"
      ],
      "metadata": {
        "colab": {
          "base_uri": "https://localhost:8080/"
        },
        "id": "K9woA12QqTlr",
        "outputId": "6a00baf4-8d3d-4648-8ae2-9403ca09f127"
      },
      "execution_count": null,
      "outputs": [
        {
          "output_type": "stream",
          "name": "stdout",
          "text": [
            "I Love Someone and Myself\n"
          ]
        }
      ]
    },
    {
      "cell_type": "code",
      "source": [
        "print('I care for {0} '.format('Someone !'))"
      ],
      "metadata": {
        "colab": {
          "base_uri": "https://localhost:8080/"
        },
        "id": "N5oYyfpbqs2b",
        "outputId": "2924caab-aa10-4d43-99dd-77f1d1a6087c"
      },
      "execution_count": null,
      "outputs": [
        {
          "output_type": "stream",
          "name": "stdout",
          "text": [
            "I care for Someone ! \n"
          ]
        }
      ]
    },
    {
      "cell_type": "code",
      "source": [
        "print('Do that Someone even care about {0} '.format('Me ?'))"
      ],
      "metadata": {
        "colab": {
          "base_uri": "https://localhost:8080/"
        },
        "id": "OCPJXwkcqyzX",
        "outputId": "6d6e4fdf-b0f1-462f-d551-af79913ac585"
      },
      "execution_count": null,
      "outputs": [
        {
          "output_type": "stream",
          "name": "stdout",
          "text": [
            "Do that Someone even care about Me ? \n"
          ]
        }
      ]
    },
    {
      "cell_type": "code",
      "source": [
        "print('Hello {name},{greeting}'.format(greeting= 'Good Morning', name= 'Omkar'))"
      ],
      "metadata": {
        "colab": {
          "base_uri": "https://localhost:8080/"
        },
        "id": "Yp4ho0UvsgUD",
        "outputId": "d8286a2b-7295-474f-dff7-2323aacbe1ef"
      },
      "execution_count": null,
      "outputs": [
        {
          "output_type": "stream",
          "name": "stdout",
          "text": [
            "Hello Omkar,Good Morning\n"
          ]
        }
      ]
    },
    {
      "cell_type": "code",
      "source": [
        "text=\"I love Python\"\n",
        "x = text.split(\" \")\n",
        "print(x)"
      ],
      "metadata": {
        "colab": {
          "base_uri": "https://localhost:8080/"
        },
        "id": "Uzykpygvt6GU",
        "outputId": "561406fb-1e1b-46aa-f26f-28796fa841ea"
      },
      "execution_count": null,
      "outputs": [
        {
          "output_type": "stream",
          "name": "stdout",
          "text": [
            "['I', 'love', 'Python']\n"
          ]
        }
      ]
    },
    {
      "cell_type": "code",
      "source": [
        "length = float(input(\"Enter the length: \"))\n",
        "breadth = float(input(\"Enter the breadth: \"))\n",
        "area = length*breadth\n",
        "print(\"The calculated area of the rectangle is: \",format(area,\"10.2f\"))\n"
      ],
      "metadata": {
        "colab": {
          "base_uri": "https://localhost:8080/"
        },
        "id": "cUgHEVUJuV-O",
        "outputId": "df7eb99f-0822-41f0-8984-7b1ae1ccdf69"
      },
      "execution_count": null,
      "outputs": [
        {
          "output_type": "stream",
          "name": "stdout",
          "text": [
            "Enter the length: 97\n",
            "Enter the breadth: 5\n",
            "The calculated area of the rectangle is:      485.00\n"
          ]
        }
      ]
    },
    {
      "cell_type": "code",
      "source": [
        "print(\"Enter the side length of square: \")\n",
        "l=float(input())\n",
        "a=l*l\n",
        "print(\"\\nArea= \",a)"
      ],
      "metadata": {
        "colab": {
          "base_uri": "https://localhost:8080/"
        },
        "id": "bmIT-FfLwpLA",
        "outputId": "a25c8ec9-a011-4488-d49f-9c95c2df4858"
      },
      "execution_count": null,
      "outputs": [
        {
          "output_type": "stream",
          "name": "stdout",
          "text": [
            "Enter the side length of square: \n",
            "5\n",
            "\n",
            "Area=  25.0\n"
          ]
        }
      ]
    },
    {
      "cell_type": "code",
      "source": [
        "x, y, z =map(int,input(\"Enter numbers: \").split(',') )\n",
        "print(x+y+z)"
      ],
      "metadata": {
        "colab": {
          "base_uri": "https://localhost:8080/"
        },
        "id": "1EWRUfzRsv33",
        "outputId": "49fb567f-e675-4eb5-b588-e525c81977ee"
      },
      "execution_count": 3,
      "outputs": [
        {
          "output_type": "stream",
          "name": "stdout",
          "text": [
            "Enter numbers: 5,6,4\n",
            "15\n"
          ]
        }
      ]
    },
    {
      "cell_type": "code",
      "source": [
        "A,B,Z=map(int,input().split())\n",
        "r=((Z-(A+B))/(A+B))*100\n",
        "print(\"The profit is: \",round(r,3))"
      ],
      "metadata": {
        "colab": {
          "base_uri": "https://localhost:8080/"
        },
        "id": "grO8GlIZtrAv",
        "outputId": "2837791c-dc81-4b0d-96d3-f02fdec4c1a1"
      },
      "execution_count": 4,
      "outputs": [
        {
          "output_type": "stream",
          "name": "stdout",
          "text": [
            "500000 75000 1000000\n",
            "The profit is:  73.913\n"
          ]
        }
      ]
    },
    {
      "cell_type": "code",
      "source": [
        "print(1,2,3,4,)\n",
        "print(1,2,3,4,sep='*')"
      ],
      "metadata": {
        "colab": {
          "base_uri": "https://localhost:8080/"
        },
        "id": "HY4qXO85vaHL",
        "outputId": "3c1d1c4e-5858-4c60-ccbd-f53dd77b73ff"
      },
      "execution_count": 5,
      "outputs": [
        {
          "output_type": "stream",
          "name": "stdout",
          "text": [
            "1 2 3 4\n",
            "1*2*3*4\n"
          ]
        }
      ]
    },
    {
      "cell_type": "code",
      "source": [
        "print(1,2,3,4,sep='*',end='&')"
      ],
      "metadata": {
        "colab": {
          "base_uri": "https://localhost:8080/"
        },
        "id": "MbQ0R4ITvznw",
        "outputId": "3a772cf8-9e9d-4648-c1a0-e9c0433a6812"
      },
      "execution_count": 6,
      "outputs": [
        {
          "output_type": "stream",
          "name": "stdout",
          "text": [
            "1*2*3*4&"
          ]
        }
      ]
    }
  ]
}