{
  "nbformat": 4,
  "nbformat_minor": 0,
  "metadata": {
    "colab": {
      "provenance": [],
      "authorship_tag": "ABX9TyN9oZZqjcs82TL2O3cQzEuS",
      "include_colab_link": true
    },
    "kernelspec": {
      "name": "python3",
      "display_name": "Python 3"
    },
    "language_info": {
      "name": "python"
    }
  },
  "cells": [
    {
      "cell_type": "markdown",
      "metadata": {
        "id": "view-in-github",
        "colab_type": "text"
      },
      "source": [
        "<a href=\"https://colab.research.google.com/github/omkarmm19/Python-Essentials/blob/main/Module3.ipynb\" target=\"_parent\"><img src=\"https://colab.research.google.com/assets/colab-badge.svg\" alt=\"Open In Colab\"/></a>"
      ]
    },
    {
      "cell_type": "code",
      "execution_count": 11,
      "metadata": {
        "colab": {
          "base_uri": "https://localhost:8080/"
        },
        "id": "uybzmt0QEfoU",
        "outputId": "635dee88-6416-4c90-8b05-0d9d15660d45"
      },
      "outputs": [
        {
          "output_type": "stream",
          "name": "stdout",
          "text": [
            "Resultant addition is: 15\n",
            "Resultant subtraction is: 5\n",
            "Resultant multiplication is: 50\n",
            "Resultant division is: 2.0\n",
            "Resultant modulus is: 0\n",
            "Resultant floor division is: 2\n",
            "Resultant exponent is: 100000\n"
          ]
        }
      ],
      "source": [
        "a = 10\n",
        "b = 5\n",
        "\n",
        "add = a + b\n",
        "print(\"Resultant addition is:\", add)\n",
        "\n",
        "sub = a - b\n",
        "print(\"Resultant subtraction is:\", sub)\n",
        "\n",
        "mult = a * b\n",
        "print(\"Resultant multiplication is:\", mult)\n",
        "\n",
        "div = a / b\n",
        "print(\"Resultant division is:\", div)\n",
        "\n",
        "mod = a %  b\n",
        "print(\"Resultant modulus is:\", mod)\n",
        "\n",
        "fldiv = a // b\n",
        "print(\"Resultant floor division is:\", fldiv)\n",
        "\n",
        "expo = a ** b\n",
        "print(\"Resultant exponent is:\", expo)\n"
      ]
    },
    {
      "cell_type": "code",
      "source": [
        "a = 13\n",
        "b = 4\n",
        "\n",
        "c = a // b\n",
        "print(\"Resultant floor division is:\", c)\n",
        "d = a % b\n",
        "print(\"remainder:\", d)"
      ],
      "metadata": {
        "colab": {
          "base_uri": "https://localhost:8080/"
        },
        "id": "ezpLDbEIJy3K",
        "outputId": "c602ab2a-3737-44bb-a883-04ef6adb0470"
      },
      "execution_count": 12,
      "outputs": [
        {
          "output_type": "stream",
          "name": "stdout",
          "text": [
            "Resultant floor division is: 3\n",
            "remainder: 1\n"
          ]
        }
      ]
    },
    {
      "cell_type": "code",
      "source": [
        "a = 5.0\n",
        "b = 2.0\n",
        "c = 5\n",
        "d = 2\n",
        "\n",
        "e = a / b\n",
        "print(\"value of e:\", e)\n",
        "f = a / d\n",
        "print(\"value of f:\", f)\n",
        "g = c / b\n",
        "print(\"value of g:\", g)\n",
        "h = c / d\n",
        "print(\"value of h:\", h)"
      ],
      "metadata": {
        "colab": {
          "base_uri": "https://localhost:8080/"
        },
        "id": "QvRQoqDiK7Z5",
        "outputId": "e23cfcdb-ee8e-4caa-ffe9-d05a5c7c3981"
      },
      "execution_count": 13,
      "outputs": [
        {
          "output_type": "stream",
          "name": "stdout",
          "text": [
            "value of e: 2.5\n",
            "value of f: 2.5\n",
            "value of g: 2.5\n",
            "value of h: 2.5\n"
          ]
        }
      ]
    },
    {
      "cell_type": "code",
      "source": [
        "a = 10\n",
        "b = 5\n",
        "\n",
        "print(\"value of a less than b:\", a < b)\n",
        "print(\"value of a greater than b:\", a > b)\n",
        "print(\"value of a less than or equal to b:\", a <= b)\n",
        "print(\"value of a greater than or equal to a:\", a>=b)\n",
        "print(\"value of a equal to b:\", a == b)\n",
        "print(\"value of a not equal to b:\", a!=b)"
      ],
      "metadata": {
        "colab": {
          "base_uri": "https://localhost:8080/"
        },
        "id": "9FliU2cUO17H",
        "outputId": "dd5afbc0-7827-43e5-f469-f35ed5692501"
      },
      "execution_count": 14,
      "outputs": [
        {
          "output_type": "stream",
          "name": "stdout",
          "text": [
            "value of a less than b: False\n",
            "value of a greater than b: True\n",
            "value of a less than or equal to b: False\n",
            "value of a greater than or equal to a: True\n",
            "value of a equal to b: False\n",
            "value of a not equal to b: True\n"
          ]
        }
      ]
    },
    {
      "cell_type": "code",
      "source": [
        "a = 5\n",
        "b = 2\n",
        "c = 3\n",
        "print(\"Case 1:\", a>b and a>c)\n",
        "print(\"Case 2:\", a>b and a<c)\n",
        "print(\"Case 3:\", a<b and a>c)\n",
        "print(\"Case 4:\", a<b and a<c)\n",
        "print(\"Case 5:\", b<a and c<a)"
      ],
      "metadata": {
        "colab": {
          "base_uri": "https://localhost:8080/"
        },
        "id": "m1xzp5LMR9Jt",
        "outputId": "09496d14-8362-4a5d-9b0d-8c612aa83590"
      },
      "execution_count": 16,
      "outputs": [
        {
          "output_type": "stream",
          "name": "stdout",
          "text": [
            "Case 1: True\n",
            "Case 2: False\n",
            "Case 3: False\n",
            "Case 4: False\n",
            "Case 5: True\n"
          ]
        }
      ]
    },
    {
      "cell_type": "code",
      "source": [
        "a = 5\n",
        "b = 2\n",
        "c = 3\n",
        "print(\"Case 1:\", a>b or a>c)\n",
        "print(\"Case 2:\", a>b or a<c)\n",
        "print(\"Case 3:\", a<b or a>c)\n",
        "print(\"Case 4:\", a<b or a<c)\n",
        "print(\"Case 5:\", b<a or c<a)"
      ],
      "metadata": {
        "colab": {
          "base_uri": "https://localhost:8080/"
        },
        "id": "cKjj75H4TE06",
        "outputId": "c08aa324-96bc-4e10-9a00-f8356689b5ce"
      },
      "execution_count": 17,
      "outputs": [
        {
          "output_type": "stream",
          "name": "stdout",
          "text": [
            "Case 1: True\n",
            "Case 2: True\n",
            "Case 3: True\n",
            "Case 4: False\n",
            "Case 5: True\n"
          ]
        }
      ]
    },
    {
      "cell_type": "code",
      "source": [
        "a = 5\n",
        "b = 2\n",
        "print(\"Case 1:\", not(a>b))\n",
        "print(\"Case 2:\", not(a<b))\n"
      ],
      "metadata": {
        "colab": {
          "base_uri": "https://localhost:8080/"
        },
        "id": "lILlSvYTTp2l",
        "outputId": "01249588-c3dd-4e0a-d7be-6639ace52594"
      },
      "execution_count": 18,
      "outputs": [
        {
          "output_type": "stream",
          "name": "stdout",
          "text": [
            "Case 1: False\n",
            "Case 2: True\n"
          ]
        }
      ]
    },
    {
      "cell_type": "code",
      "source": [
        "a = 10\n",
        "b = \"Hello World\"\n",
        "c = 33.33\n",
        "d = 2+3j\n",
        "print(type(a))\n",
        "print(type(b))\n",
        "print(type(c))\n",
        "print(type(d))"
      ],
      "metadata": {
        "colab": {
          "base_uri": "https://localhost:8080/"
        },
        "id": "NwOB0GNNZjUf",
        "outputId": "d6466bed-2ed1-4e34-bf99-59525aa748bc"
      },
      "execution_count": 19,
      "outputs": [
        {
          "output_type": "stream",
          "name": "stdout",
          "text": [
            "<class 'int'>\n",
            "<class 'str'>\n",
            "<class 'float'>\n",
            "<class 'complex'>\n"
          ]
        }
      ]
    },
    {
      "cell_type": "code",
      "source": [
        "A = 10 #1010\n",
        "B = 4  #0100\n",
        "print(\"Value of Bitwise And:\", A & B)\n",
        "\n",
        "a = 10\n",
        "b = 4\n",
        "print(\"Value of Bitwise OR:\", a | b)\n",
        "\n",
        "a = 10\n",
        "b = 4\n",
        "print(\"Value of Bitwise  XOR:\", a ^ b)\n",
        "\n",
        "a = 10\n",
        "print(\"Value of Bitwise NOT:\", ~a)\n",
        "\n",
        "a = 5\n",
        "print(\"Value of Bitwise Left Shift:\", a << 1)\n",
        "\n",
        "a = 10\n",
        "print(\"Value of Bitwise Right Shift:\", a >> 1)\n"
      ],
      "metadata": {
        "colab": {
          "base_uri": "https://localhost:8080/"
        },
        "id": "lFCnU6SIjkJi",
        "outputId": "0cf12041-95d6-453f-bcca-3f217bc2510a"
      },
      "execution_count": 21,
      "outputs": [
        {
          "output_type": "stream",
          "name": "stdout",
          "text": [
            "Value of Bitwise And: 0\n",
            "Value of Bitwise OR: 14\n",
            "Value of Bitwise  XOR: 14\n",
            "Value of Bitwise NOT: -11\n",
            "Value of Bitwise Left Shift: 10\n",
            "Value of Bitwise Right Shift: 5\n"
          ]
        }
      ]
    }
  ]
}