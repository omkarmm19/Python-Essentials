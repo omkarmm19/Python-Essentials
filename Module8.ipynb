{
  "nbformat": 4,
  "nbformat_minor": 0,
  "metadata": {
    "colab": {
      "provenance": [],
      "authorship_tag": "ABX9TyM6DQDTGVFW3P39IEvMgvpm",
      "include_colab_link": true
    },
    "kernelspec": {
      "name": "python3",
      "display_name": "Python 3"
    },
    "language_info": {
      "name": "python"
    }
  },
  "cells": [
    {
      "cell_type": "markdown",
      "metadata": {
        "id": "view-in-github",
        "colab_type": "text"
      },
      "source": [
        "<a href=\"https://colab.research.google.com/github/omkarmm19/Python-Essentials/blob/main/Module8.ipynb\" target=\"_parent\"><img src=\"https://colab.research.google.com/assets/colab-badge.svg\" alt=\"Open In Colab\"/></a>"
      ]
    },
    {
      "cell_type": "code",
      "source": [
        " age=int(input(\"Enter your age:\"))\n",
        " if(age>18):\n",
        "  print(\"You can vote\")\n",
        "\n",
        " print(\"rest of the code will execute\")"
      ],
      "metadata": {
        "id": "FXavSiHZWj6A",
        "colab": {
          "base_uri": "https://localhost:8080/"
        },
        "outputId": "4486923c-6a57-4bb2-e47a-d10a362d5372"
      },
      "execution_count": 1,
      "outputs": [
        {
          "output_type": "stream",
          "name": "stdout",
          "text": [
            "Enter your age:20\n",
            "You can vote\n",
            "rest of the code will execute\n"
          ]
        }
      ]
    },
    {
      "cell_type": "code",
      "source": [
        " age=int(input(\"Enter your age:\"))\n",
        " if(age>18):\n",
        "  print(\"You can vote\")\n",
        " else:\n",
        "  print(\"You are minor you can't vote!\")\n",
        "\n",
        " print(\"rest of the code will execute\")"
      ],
      "metadata": {
        "colab": {
          "base_uri": "https://localhost:8080/"
        },
        "id": "RQRCI1K8dMuR",
        "outputId": "8c2a9cfa-4f91-45e9-8479-bde6d18b6c28"
      },
      "execution_count": 2,
      "outputs": [
        {
          "output_type": "stream",
          "name": "stdout",
          "text": [
            "Enter your age:15\n",
            "You are minor you can't vote!\n",
            "rest of the code will execute\n"
          ]
        }
      ]
    },
    {
      "cell_type": "code",
      "source": [
        " age=int(input(\"Enter your age:\"))\n",
        " if age>=18:\n",
        "    citizenship=str(input(\"Enter your citizenship\"))\n",
        "    if citizenship == 'Indian':\n",
        "      print(\"You can vote\")\n",
        "      print(\"Congratulations\")\n",
        "    else:\n",
        "      print(\"Sorry! you are not eligible for voting !!\")"
      ],
      "metadata": {
        "colab": {
          "base_uri": "https://localhost:8080/"
        },
        "id": "LilJa6-mqSuV",
        "outputId": "8361ac96-bf45-4c0a-835b-b341334cd7d4"
      },
      "execution_count": 78,
      "outputs": [
        {
          "output_type": "stream",
          "name": "stdout",
          "text": [
            "Enter your age:19\n",
            "Enter your citizenshipIndian\n",
            "You can vote\n",
            "Congratulations\n"
          ]
        }
      ]
    },
    {
      "cell_type": "code",
      "source": [
        "mark_sci=int(input(\"Enter your science marks:\"))\n",
        "mark_math=int(input(\"Enter your maths marks:\"))\n",
        "if(mark_sci>=80 and mark_math>=80):\n",
        "  print(\"Excellent you are eligible for price worth 10k\")\n",
        "elif(mark_sci>=80 and mark_math<=80):\n",
        "  print(\"Good you are eligible for price worth 5k\")\n",
        "elif(mark_sci<=80 and mark_math>=80):\n",
        "  print(\"Good you are eligible for price worth 5k\")\n",
        "else:\n",
        "  print(\"You are not eligible\")"
      ],
      "metadata": {
        "colab": {
          "base_uri": "https://localhost:8080/"
        },
        "id": "HmtsfhrVdj-x",
        "outputId": "86f795ba-dad3-4711-eadb-453ccf7531d4"
      },
      "execution_count": 4,
      "outputs": [
        {
          "output_type": "stream",
          "name": "stdout",
          "text": [
            "Enter your science marks:80\n",
            "Enter your maths marks:80\n",
            "Excellent you are eligible for price worth 10k\n"
          ]
        }
      ]
    },
    {
      "cell_type": "code",
      "source": [
        "x,y,z=map(int,input(\"Enter number \").split())\n",
        "if(x>y)and(y>z):\n",
        "  max=x\n",
        "elif(y>x)and(y>z):\n",
        "  max=y\n",
        "else:\n",
        "  max=z\n",
        "print(\"The maximum element among three numbers is\",max)"
      ],
      "metadata": {
        "colab": {
          "base_uri": "https://localhost:8080/"
        },
        "id": "_qsqW-jzfAJ3",
        "outputId": "6a4c322d-a08b-4c36-ea31-083989ad6db0"
      },
      "execution_count": 8,
      "outputs": [
        {
          "output_type": "stream",
          "name": "stdout",
          "text": [
            "Enter number 5 7 8\n",
            "The maximum element among three numbers is 8\n"
          ]
        }
      ]
    },
    {
      "cell_type": "code",
      "source": [
        "statement=str(input(\"Enter your name:\"))\n",
        "for x in statement:\n",
        "  print(x)"
      ],
      "metadata": {
        "colab": {
          "base_uri": "https://localhost:8080/"
        },
        "id": "sDhL724hgJxM",
        "outputId": "c4940852-5609-4033-a2bd-9baa2894aee6"
      },
      "execution_count": 9,
      "outputs": [
        {
          "output_type": "stream",
          "name": "stdout",
          "text": [
            "Enter your name:PYTHON\n",
            "P\n",
            "Y\n",
            "T\n",
            "H\n",
            "O\n",
            "N\n"
          ]
        }
      ]
    },
    {
      "cell_type": "code",
      "source": [
        "num=range(1,7)\n",
        "for x in num:\n",
        "  print(x)"
      ],
      "metadata": {
        "colab": {
          "base_uri": "https://localhost:8080/"
        },
        "id": "aiT-GmJAgnQG",
        "outputId": "2bc13129-2628-4216-ba24-898c01d73775"
      },
      "execution_count": 10,
      "outputs": [
        {
          "output_type": "stream",
          "name": "stdout",
          "text": [
            "1\n",
            "2\n",
            "3\n",
            "4\n",
            "5\n",
            "6\n"
          ]
        }
      ]
    },
    {
      "cell_type": "code",
      "source": [
        "num=range(int(input(\"Enter a value:\")))\n",
        "for x in num:\n",
        "  print(x)"
      ],
      "metadata": {
        "colab": {
          "base_uri": "https://localhost:8080/"
        },
        "id": "6TuFuqnzgySU",
        "outputId": "48e3a763-b801-4125-8d57-4c8af8bb9230"
      },
      "execution_count": 11,
      "outputs": [
        {
          "output_type": "stream",
          "name": "stdout",
          "text": [
            "Enter a value:5\n",
            "0\n",
            "1\n",
            "2\n",
            "3\n",
            "4\n"
          ]
        }
      ]
    },
    {
      "cell_type": "code",
      "source": [
        "n=int(input(\"Enter a number \"))\n",
        "sum=0\n",
        "for i in range(1,n):\n",
        "  sum+=i\n",
        "print(sum)"
      ],
      "metadata": {
        "colab": {
          "base_uri": "https://localhost:8080/"
        },
        "id": "sUHeSTEthSLu",
        "outputId": "a0cdcebf-1bed-44f9-c9be-972c1720a285"
      },
      "execution_count": 14,
      "outputs": [
        {
          "output_type": "stream",
          "name": "stdout",
          "text": [
            "Enter a number 4\n",
            "6\n"
          ]
        }
      ]
    },
    {
      "cell_type": "code",
      "source": [
        "num=range(15,1,-1)\n",
        "for x in num:\n",
        "  print(x)"
      ],
      "metadata": {
        "colab": {
          "base_uri": "https://localhost:8080/"
        },
        "id": "SibrYl0BhsMF",
        "outputId": "e757e1ec-f028-42d9-d1bd-31e44f938ef6"
      },
      "execution_count": 15,
      "outputs": [
        {
          "output_type": "stream",
          "name": "stdout",
          "text": [
            "15\n",
            "14\n",
            "13\n",
            "12\n",
            "11\n",
            "10\n",
            "9\n",
            "8\n",
            "7\n",
            "6\n",
            "5\n",
            "4\n",
            "3\n",
            "2\n"
          ]
        }
      ]
    },
    {
      "cell_type": "code",
      "source": [
        "num=range(int(input(\"Enter your number \")))\n",
        "for x in num:\n",
        "  print(x)\n",
        "else:\n",
        "  print(\"All values are printed upto:\",num)"
      ],
      "metadata": {
        "colab": {
          "base_uri": "https://localhost:8080/"
        },
        "id": "mrpzw4pOiQCv",
        "outputId": "0640dc24-740c-467e-c98f-2bc72a19a804"
      },
      "execution_count": 16,
      "outputs": [
        {
          "output_type": "stream",
          "name": "stdout",
          "text": [
            "Enter your number4\n",
            "0\n",
            "1\n",
            "2\n",
            "3\n",
            "All values are printed upto: range(0, 4)\n"
          ]
        }
      ]
    },
    {
      "cell_type": "code",
      "source": [
        "num1=range(int(input(\"Enter your number for first loop to be printed \")))\n",
        "num2=range(int(input(\"Enter your number for second loop to be printed \")))\n",
        "for x in num1:\n",
        "  print(\"first loop\",x)\n",
        "  for j in num2:\n",
        "    print(\"second loop\",j)"
      ],
      "metadata": {
        "colab": {
          "base_uri": "https://localhost:8080/"
        },
        "id": "niN55uTzjGwK",
        "outputId": "b9dbf956-35fb-4497-9101-464a6ea97429"
      },
      "execution_count": 17,
      "outputs": [
        {
          "output_type": "stream",
          "name": "stdout",
          "text": [
            "Enter your number for first loop to be printed 2\n",
            "Enter your number for second loop to be printed 5\n",
            "first loop 0\n",
            "second loop 0\n",
            "second loop 1\n",
            "second loop 2\n",
            "second loop 3\n",
            "second loop 4\n",
            "first loop 1\n",
            "second loop 0\n",
            "second loop 1\n",
            "second loop 2\n",
            "second loop 3\n",
            "second loop 4\n"
          ]
        }
      ]
    },
    {
      "cell_type": "code",
      "source": [
        "num=1\n",
        "while num<=10:\n",
        "  print(num)\n",
        "  num=num+1\n"
      ],
      "metadata": {
        "colab": {
          "base_uri": "https://localhost:8080/"
        },
        "id": "s858lcUqkETs",
        "outputId": "e7a74121-390b-465a-b7dd-d1a27bfe8d1b"
      },
      "execution_count": 20,
      "outputs": [
        {
          "output_type": "stream",
          "name": "stdout",
          "text": [
            "1\n",
            "2\n",
            "3\n",
            "4\n",
            "5\n",
            "6\n",
            "7\n",
            "8\n",
            "9\n",
            "10\n"
          ]
        }
      ]
    },
    {
      "cell_type": "code",
      "source": [
        "num=11\n",
        "while num<=10:\n",
        "  print(num)\n",
        "  num=num+1\n",
        "else:\n",
        "  print(\"while loop is exausted\")"
      ],
      "metadata": {
        "colab": {
          "base_uri": "https://localhost:8080/"
        },
        "id": "X9_JNQn_kn9g",
        "outputId": "6609bbc1-2588-4b56-a8d5-d19f60462adf"
      },
      "execution_count": 22,
      "outputs": [
        {
          "output_type": "stream",
          "name": "stdout",
          "text": [
            "while loop is exausted\n"
          ]
        }
      ]
    },
    {
      "cell_type": "code",
      "source": [
        "num=range(int(input(\"Enter the number upto which you want to print \")))\n",
        "for x in num:\n",
        "  if (x == 10):\n",
        "    break\n",
        "    print(x)\n",
        "\n",
        "  print(\"we can't print a number greater than 10\")"
      ],
      "metadata": {
        "colab": {
          "base_uri": "https://localhost:8080/"
        },
        "id": "kr_w35M_lemt",
        "outputId": "24a27c65-d817-4ea6-a00f-15b1c005229e"
      },
      "execution_count": 36,
      "outputs": [
        {
          "output_type": "stream",
          "name": "stdout",
          "text": [
            "Enter the number upto which you want to print 8\n",
            "we can't print a number greater than 10\n",
            "we can't print a number greater than 10\n",
            "we can't print a number greater than 10\n",
            "we can't print a number greater than 10\n",
            "we can't print a number greater than 10\n",
            "we can't print a number greater than 10\n",
            "we can't print a number greater than 10\n",
            "we can't print a number greater than 10\n"
          ]
        }
      ]
    },
    {
      "cell_type": "code",
      "source": [
        "num = int(input(\"How many cookies you want: \"))\n",
        "limit = 5\n",
        "i=1\n",
        "while i<=num:\n",
        "        if i>limit:\n",
        "            break\n",
        "              print(\"cookie\",i)\n",
        "                  i+=1\n",
        "\n",
        " print(\"you can't get more than\",limit,\"cookies\")"
      ],
      "metadata": {
        "colab": {
          "base_uri": "https://localhost:8080/",
          "height": 140
        },
        "id": "6blyal5XoQmr",
        "outputId": "56cf9223-c808-4d1c-bc75-f64510d4d5a0"
      },
      "execution_count": 57,
      "outputs": [
        {
          "output_type": "error",
          "ename": "IndentationError",
          "evalue": "ignored",
          "traceback": [
            "\u001b[0;36m  File \u001b[0;32m\"<tokenize>\"\u001b[0;36m, line \u001b[0;32m7\u001b[0m\n\u001b[0;31m    print(\"cookie\",i)\u001b[0m\n\u001b[0m    ^\u001b[0m\n\u001b[0;31mIndentationError\u001b[0m\u001b[0;31m:\u001b[0m unindent does not match any outer indentation level\n"
          ]
        }
      ]
    },
    {
      "cell_type": "code",
      "source": [
        "num=range(int(input(\"Enter the number upto which you want to print\")))\n",
        "for x in num:\n",
        "  if (x == 5):\n",
        "    continue\n",
        "    print(\"Value\",x)\n",
        ""
      ],
      "metadata": {
        "colab": {
          "base_uri": "https://localhost:8080/"
        },
        "id": "ClmQ8lg5pBus",
        "outputId": "bdd43f4c-5f32-493a-e068-5c76a49c6f7a"
      },
      "execution_count": 2,
      "outputs": [
        {
          "name": "stdout",
          "output_type": "stream",
          "text": [
            "Enter the number upto which you want to print5\n"
          ]
        }
      ]
    },
    {
      "cell_type": "code",
      "source": [
        "list=['a','e','i','o','u']\n",
        "\n",
        "for i in list:\n",
        "  if(i == 'e'):\n",
        "    pass\n",
        "\n",
        "  else:\n",
        "      print(i)\n",
        "\n",
        "\n",
        "\n",
        ""
      ],
      "metadata": {
        "colab": {
          "base_uri": "https://localhost:8080/"
        },
        "id": "k19CVSPMsErL",
        "outputId": "53e5d485-a950-4bd3-8352-808c433101cf"
      },
      "execution_count": 11,
      "outputs": [
        {
          "output_type": "stream",
          "name": "stdout",
          "text": [
            "a\n",
            "i\n",
            "o\n",
            "u\n"
          ]
        }
      ]
    },
    {
      "cell_type": "code",
      "source": [
        "for letter in 'Compassion':\n",
        "  if letter == 's':\n",
        "    pass\n",
        "    print('This is a pass block')\n",
        "print('Current Letter: ',letter)\n",
        "\n",
        " print(\"end of the program\")"
      ],
      "metadata": {
        "id": "1z8KaaCYNVMQ"
      },
      "execution_count": null,
      "outputs": []
    }
  ]
}