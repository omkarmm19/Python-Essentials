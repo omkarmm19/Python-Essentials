{
  "nbformat": 4,
  "nbformat_minor": 0,
  "metadata": {
    "colab": {
      "provenance": [],
      "authorship_tag": "ABX9TyNFxhaMTMNuIJyCw0Su3dDq",
      "include_colab_link": true
    },
    "kernelspec": {
      "name": "python3",
      "display_name": "Python 3"
    },
    "language_info": {
      "name": "python"
    }
  },
  "cells": [
    {
      "cell_type": "markdown",
      "metadata": {
        "id": "view-in-github",
        "colab_type": "text"
      },
      "source": [
        "<a href=\"https://colab.research.google.com/github/omkarmm19/Python-Essentials/blob/main/Salary_assignment.ipynb\" target=\"_parent\"><img src=\"https://colab.research.google.com/assets/colab-badge.svg\" alt=\"Open In Colab\"/></a>"
      ]
    },
    {
      "cell_type": "code",
      "source": [
        "def calculate_total_salary(basic_salary, TA, DA):\n",
        "    \"\"\"\n",
        "    Calculate the total salary including TA and DA for employees in a department.\n",
        "\n",
        "    Parameters:\n",
        "    - basic_salary (list): List of basic salaries for each employee.\n",
        "    - TA (float): Travel Allowance amount.\n",
        "    - DA (float): Dearness Allowance amount.\n",
        "\n",
        "    Returns:\n",
        "    - float: Total salary for the department.\n",
        "    \"\"\"\n",
        "    total_salary = sum(basic_salary) + len(basic_salary) * (TA + DA)\n",
        "    return total_salary\n",
        "\n",
        "def main():\n",
        "    # Example scenario: Recruiting employees with different basic salaries\n",
        "    employees_basic_salary = [50000, 60000, 70000, 55000, 75000]\n",
        "    travel_allowance = 2000\n",
        "    dearness_allowance = 1500\n",
        "\n",
        "    # Calculate the total salary for the department\n",
        "    total_salary = calculate_total_salary(employees_basic_salary, travel_allowance, dearness_allowance)\n",
        "\n",
        "    # Display the results\n",
        "    print(\"Basic Salaries:\", employees_basic_salary)\n",
        "    print(\"Travel Allowance:\", travel_allowance)\n",
        "    print(\"Dearness Allowance:\", dearness_allowance)\n",
        "    print(\"Total Salary for the Department:\", total_salary)\n",
        "\n",
        "if __name__ == \"__main__\":\n",
        "    main()"
      ],
      "metadata": {
        "colab": {
          "base_uri": "https://localhost:8080/"
        },
        "id": "wAU0GO5uEcRo",
        "outputId": "972e8691-a73d-479e-e1da-a239fe5e6271"
      },
      "execution_count": 2,
      "outputs": [
        {
          "output_type": "stream",
          "name": "stdout",
          "text": [
            "Basic Salaries: [50000, 60000, 70000, 55000, 75000]\n",
            "Travel Allowance: 2000\n",
            "Dearness Allowance: 1500\n",
            "Total Salary for the Department: 327500\n"
          ]
        }
      ]
    }
  ]
}