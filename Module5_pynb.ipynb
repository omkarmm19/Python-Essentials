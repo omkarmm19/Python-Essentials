{
  "nbformat": 4,
  "nbformat_minor": 0,
  "metadata": {
    "colab": {
      "provenance": [],
      "authorship_tag": "ABX9TyOGjY55LdqI/fSxfcI+wLzJ",
      "include_colab_link": true
    },
    "kernelspec": {
      "name": "python3",
      "display_name": "Python 3"
    },
    "language_info": {
      "name": "python"
    }
  },
  "cells": [
    {
      "cell_type": "markdown",
      "metadata": {
        "id": "view-in-github",
        "colab_type": "text"
      },
      "source": [
        "<a href=\"https://colab.research.google.com/github/omkarmm19/Python-Essentials/blob/main/Module5_pynb.ipynb\" target=\"_parent\"><img src=\"https://colab.research.google.com/assets/colab-badge.svg\" alt=\"Open In Colab\"/></a>"
      ]
    },
    {
      "cell_type": "code",
      "execution_count": 3,
      "metadata": {
        "colab": {
          "base_uri": "https://localhost:8080/"
        },
        "id": "2weI_GVHdGOx",
        "outputId": "6319fa63-3ba2-4406-e1ba-b68507013911"
      },
      "outputs": [
        {
          "output_type": "stream",
          "name": "stdout",
          "text": [
            "The value of a is:  6\n",
            "The value of b is:  3.75\n",
            "The value of c is:  1.2\n"
          ]
        }
      ],
      "source": [
        "a = 4 + 2\n",
        "print(\"The value of a is: \",a)\n",
        "\n",
        "b = 3+3/4\n",
        "print(\"The value of b is: \",b)\n",
        "\n",
        "c = (3+3)/5\n",
        "print(\"The value of c is: \",c)\n"
      ]
    },
    {
      "cell_type": "code",
      "source": [
        "a=((((13+5)*2)-4)/6)-13\n",
        "print(\"The value of a is: \",a)\n",
        "\n",
        "b=(1+5)*2**4//3+4-5\n",
        "print(\"The value of b is: \",b)"
      ],
      "metadata": {
        "colab": {
          "base_uri": "https://localhost:8080/"
        },
        "id": "a8gdDnb3eDZ9",
        "outputId": "bf740373-567d-4fdd-f5b5-17dca379ec72"
      },
      "execution_count": 6,
      "outputs": [
        {
          "output_type": "stream",
          "name": "stdout",
          "text": [
            "The value of a is:  -7.666666666666667\n",
            "The value of b is:  31\n"
          ]
        }
      ]
    },
    {
      "cell_type": "code",
      "source": [
        "len(\"Programming\")==44/11 or 121/11\n"
      ],
      "metadata": {
        "colab": {
          "base_uri": "https://localhost:8080/"
        },
        "id": "W54tURrzfyDM",
        "outputId": "b3ccd2c5-9ab4-4636-9656-2feb778bf8e3"
      },
      "execution_count": 9,
      "outputs": [
        {
          "output_type": "execute_result",
          "data": {
            "text/plain": [
              "11.0"
            ]
          },
          "metadata": {},
          "execution_count": 9
        }
      ]
    },
    {
      "cell_type": "code",
      "source": [
        "35>15 and 55>=100 or not 19>3"
      ],
      "metadata": {
        "colab": {
          "base_uri": "https://localhost:8080/"
        },
        "id": "C9SUAapEgU3z",
        "outputId": "959d42f6-0204-4634-d8b8-d2d91ed0a66c"
      },
      "execution_count": 12,
      "outputs": [
        {
          "output_type": "execute_result",
          "data": {
            "text/plain": [
              "False"
            ]
          },
          "metadata": {},
          "execution_count": 12
        }
      ]
    },
    {
      "cell_type": "code",
      "source": [
        "55<45 and 65<100 or not 18>3"
      ],
      "metadata": {
        "colab": {
          "base_uri": "https://localhost:8080/"
        },
        "id": "O_yZczS2idEv",
        "outputId": "b4b59d1a-67c0-4622-ab09-0f30edee1e44"
      },
      "execution_count": 13,
      "outputs": [
        {
          "output_type": "execute_result",
          "data": {
            "text/plain": [
              "False"
            ]
          },
          "metadata": {},
          "execution_count": 13
        }
      ]
    },
    {
      "cell_type": "code",
      "source": [
        "'pass'=='mark' and not (2==10 or 5==4)"
      ],
      "metadata": {
        "colab": {
          "base_uri": "https://localhost:8080/"
        },
        "id": "P7S3APrhizmF",
        "outputId": "b336fbd9-82ac-4035-bd00-e1f142c83b44"
      },
      "execution_count": 14,
      "outputs": [
        {
          "output_type": "execute_result",
          "data": {
            "text/plain": [
              "False"
            ]
          },
          "metadata": {},
          "execution_count": 14
        }
      ]
    },
    {
      "cell_type": "code",
      "source": [
        "if((-10 & 10) | (20 & -20)):\n",
        "  print(\"condition is true\")\n",
        "else:\n",
        "  print(\"condition is false\")"
      ],
      "metadata": {
        "colab": {
          "base_uri": "https://localhost:8080/"
        },
        "id": "fv0gG480kSX0",
        "outputId": "516d0d50-f4f0-47fc-cf9d-31de418f7f27"
      },
      "execution_count": 18,
      "outputs": [
        {
          "output_type": "stream",
          "name": "stdout",
          "text": [
            "condition is true\n"
          ]
        }
      ]
    },
    {
      "cell_type": "code",
      "source": [
        "a=5\n",
        "b=2\n",
        "\n",
        "if (a & b == 2):\n",
        "  print(\"I win the game\")\n",
        "else:\n",
        "  print(\"I loss the game\")"
      ],
      "metadata": {
        "colab": {
          "base_uri": "https://localhost:8080/"
        },
        "id": "IiugO4VKlSkE",
        "outputId": "3ac8ef37-0844-4331-e067-7859fdb2ff2d"
      },
      "execution_count": 20,
      "outputs": [
        {
          "output_type": "stream",
          "name": "stdout",
          "text": [
            "I loss the game\n"
          ]
        }
      ]
    }
  ]
}