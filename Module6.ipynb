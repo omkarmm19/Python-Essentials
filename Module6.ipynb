{
  "nbformat": 4,
  "nbformat_minor": 0,
  "metadata": {
    "colab": {
      "provenance": [],
      "authorship_tag": "ABX9TyOuN/zzBKj+z7VPgDaJhe8N",
      "include_colab_link": true
    },
    "kernelspec": {
      "name": "python3",
      "display_name": "Python 3"
    },
    "language_info": {
      "name": "python"
    }
  },
  "cells": [
    {
      "cell_type": "markdown",
      "metadata": {
        "id": "view-in-github",
        "colab_type": "text"
      },
      "source": [
        "<a href=\"https://colab.research.google.com/github/omkarmm19/Python-Essentials/blob/main/Module6.ipynb\" target=\"_parent\"><img src=\"https://colab.research.google.com/assets/colab-badge.svg\" alt=\"Open In Colab\"/></a>"
      ]
    },
    {
      "cell_type": "code",
      "execution_count": 1,
      "metadata": {
        "colab": {
          "base_uri": "https://localhost:8080/"
        },
        "id": "j3Lp8aDMmi1Y",
        "outputId": "420e8ff9-8730-4260-af71-96da6488e2e8"
      },
      "outputs": [
        {
          "output_type": "stream",
          "name": "stdout",
          "text": [
            "Enter an integer value: 5\n",
            "Enter an float value: 4\n",
            "Data type of num_1:  <class 'int'>\n",
            "Data type of num_2 before typecasting:  <class 'float'>\n",
            "Data type after typecasting:  <class 'int'>\n",
            "Value of addition:  9\n",
            "Data type of add:  <class 'int'>\n"
          ]
        }
      ],
      "source": [
        "num_1=int(input(\"Enter an integer value: \"))\n",
        "num_2=float(input(\"Enter an float value: \"))\n",
        "\n",
        "print(\"Data type of num_1: \",type(num_1))\n",
        "print(\"Data type of num_2 before typecasting: \",type(num_2))\n",
        "\n",
        "value_int=int(num_2)\n",
        "\n",
        "print(\"Data type after typecasting: \",type(value_int))\n",
        "\n",
        "add=num_1 + value_int\n",
        "print(\"Value of addition: \",add)\n",
        "print(\"Data type of add: \",type(add))"
      ]
    },
    {
      "cell_type": "code",
      "source": [
        "languages=(\"Python\",\"Java\",\"R\",\"Julia\")\n",
        "\n",
        "print(languages)\n",
        "print(\"Data type of state: \", type(languages))\n",
        "\n",
        "value = list(languages)\n",
        "print(value)\n",
        "print(\"Data type of value: \", type(value))"
      ],
      "metadata": {
        "colab": {
          "base_uri": "https://localhost:8080/"
        },
        "id": "2KOdKB9TtXZ4",
        "outputId": "5d9e8c7f-0e05-4736-96c0-6a868c6df132"
      },
      "execution_count": 3,
      "outputs": [
        {
          "output_type": "stream",
          "name": "stdout",
          "text": [
            "('Python', 'Java', 'R', 'Julia')\n",
            "Data type of state:  <class 'tuple'>\n",
            "['Python', 'Java', 'R', 'Julia']\n",
            "Data type of value:  <class 'list'>\n"
          ]
        }
      ]
    },
    {
      "cell_type": "code",
      "source": [
        "s=\"100111\"\n",
        "\n",
        "c=int(s,2)\n",
        "print(\"After converting to integer base 2: \", end=\"\")\n",
        "print(c)\n",
        "\n",
        "e=float(s)\n",
        "print(\"After converting to float: \",end=\" \")\n",
        "print(e)"
      ],
      "metadata": {
        "colab": {
          "base_uri": "https://localhost:8080/"
        },
        "id": "QZajTYq6vPK6",
        "outputId": "3392f13d-ae36-4044-952d-05b8bee11d01"
      },
      "execution_count": 1,
      "outputs": [
        {
          "output_type": "stream",
          "name": "stdout",
          "text": [
            "After converting to integer base 2: 39\n",
            "After converting to float:  100111.0\n"
          ]
        }
      ]
    },
    {
      "cell_type": "code",
      "source": [
        "num_1=25\n",
        "comp=complex(num_1)\n",
        "\n",
        "print(\"The value: \",comp)\n",
        "print(\"Data type of comp: \",type(comp))"
      ],
      "metadata": {
        "colab": {
          "base_uri": "https://localhost:8080/"
        },
        "id": "2KXWFyVqxdn9",
        "outputId": "9c500d6e-8d4b-4c8f-af94-07d031d6c9c3"
      },
      "execution_count": 4,
      "outputs": [
        {
          "output_type": "stream",
          "name": "stdout",
          "text": [
            "The value:  (25+0j)\n",
            "Data type of comp:  <class 'complex'>\n"
          ]
        }
      ]
    },
    {
      "cell_type": "code",
      "source": [
        "a=chr(65)\n",
        "b=chr(97)\n",
        "\n",
        "print(a)\n",
        "print(b)\n"
      ],
      "metadata": {
        "colab": {
          "base_uri": "https://localhost:8080/"
        },
        "id": "pj7FCluYyJSN",
        "outputId": "663e2de9-f6fe-46fd-f2b2-0a0a1da475f8"
      },
      "execution_count": 6,
      "outputs": [
        {
          "output_type": "stream",
          "name": "stdout",
          "text": [
            "A\n",
            "a\n"
          ]
        }
      ]
    },
    {
      "cell_type": "code",
      "source": [
        "c=complex(10,2)\n",
        "print (\"After converting integer to complex number: \",end=\"\")\n",
        "print(c)\n",
        "\n",
        "c=complex(1.1,2.2)\n",
        "print (\"After converting float to complex number: \",end=\"\")\n",
        "print(c)\n",
        "\n",
        "integer=10\n",
        "\n",
        "string=str(integer)\n",
        "print (\"After converting integer to string: \",end=\"\")\n",
        "print(string)\n",
        "\n",
        "tup=(('Python',1),('R',2),('Julia',3))\n",
        "\n",
        "dic=dict(tup)\n",
        "print (\"After converting tup to dictionary: \",end=\"\")\n",
        "print(dic)\n"
      ],
      "metadata": {
        "colab": {
          "base_uri": "https://localhost:8080/"
        },
        "id": "hJQToNUMyj03",
        "outputId": "1679a508-a68e-4bf1-ed4b-d483c01d62a0"
      },
      "execution_count": 10,
      "outputs": [
        {
          "output_type": "stream",
          "name": "stdout",
          "text": [
            "After converting integer to complex number: (10+2j)\n",
            "After converting float to complex number: (1.1+2.2j)\n",
            "After converting integer to string: 10\n",
            "After converting tup to dictionary: {'Python': 1, 'R': 2, 'Julia': 3}\n"
          ]
        }
      ]
    },
    {
      "cell_type": "code",
      "source": [
        "a=55\n",
        "b=25\n",
        "value=a+b\n",
        "print(\"Value of a+b = \",value)\n",
        "print(\"Data type of value\",type(value))"
      ],
      "metadata": {
        "colab": {
          "base_uri": "https://localhost:8080/"
        },
        "id": "VoR55sUS0cDD",
        "outputId": "9d70e144-0fe9-478c-d3a9-34da0c8d5182"
      },
      "execution_count": 11,
      "outputs": [
        {
          "output_type": "stream",
          "name": "stdout",
          "text": [
            "Value of a+b =  80\n",
            "Data type of value <class 'int'>\n"
          ]
        }
      ]
    },
    {
      "cell_type": "code",
      "source": [
        "num_first=153\n",
        "num_second=22.5\n",
        "add = num_first + num_second\n",
        "\n",
        "print(\"Data type of num_first: \",type(num_first))\n",
        "print(\"Data type of num_second: \",type(num_second))\n",
        "\n",
        "print(\"Value of addition= \",add)\n",
        "print(\"Data type of add: \",type(add))"
      ],
      "metadata": {
        "colab": {
          "base_uri": "https://localhost:8080/"
        },
        "id": "t85YthBD1t2J",
        "outputId": "2372a52e-d585-4951-f6a9-84817a05a29e"
      },
      "execution_count": 12,
      "outputs": [
        {
          "output_type": "stream",
          "name": "stdout",
          "text": [
            "Data type of num_first:  <class 'int'>\n",
            "Data type of num_second:  <class 'float'>\n",
            "Value of addition=  175.5\n",
            "Data type of add:  <class 'float'>\n"
          ]
        }
      ]
    },
    {
      "cell_type": "code",
      "source": [
        "num_first=15\n",
        "num_second=12.5\n",
        "mul = num_first + num_second\n",
        "\n",
        "print(\"Data type of num_first: \",type(num_first))\n",
        "print(\"Data type of num_second: \",type(num_second))\n",
        "\n",
        "print(\"Value of addition= \",mul)\n",
        "print(\"Data type of add: \",type(mul))"
      ],
      "metadata": {
        "colab": {
          "base_uri": "https://localhost:8080/"
        },
        "id": "f6UYTaEi2uZf",
        "outputId": "0d993927-521a-4869-f465-506ee2411905"
      },
      "execution_count": 14,
      "outputs": [
        {
          "output_type": "stream",
          "name": "stdout",
          "text": [
            "Data type of num_first:  <class 'int'>\n",
            "Data type of num_second:  <class 'float'>\n",
            "Value of addition=  27.5\n",
            "Data type of add:  <class 'float'>\n"
          ]
        }
      ]
    },
    {
      "cell_type": "code",
      "source": [
        "value_1=\"Namaste\"\n",
        "value_2=\"India\"\n",
        "value_3= value_1 + value_2\n",
        "print(\"After addition: \",value_3)\n",
        "print(\"Data type of value_3: \",type(value_3))"
      ],
      "metadata": {
        "colab": {
          "base_uri": "https://localhost:8080/"
        },
        "id": "deynvv9x3LG6",
        "outputId": "31d2e80c-81ab-4c21-85e4-bf1db1b5577d"
      },
      "execution_count": 15,
      "outputs": [
        {
          "output_type": "stream",
          "name": "stdout",
          "text": [
            "After addition:  NamasteIndia\n",
            "Data type of value_3:  <class 'str'>\n"
          ]
        }
      ]
    },
    {
      "cell_type": "code",
      "source": [
        "num_int=25\n",
        "num_str=\"65\"\n",
        "add = num_int + num_str\n",
        "print(\"Data type of num_int\",num_int)\n",
        "print(\"Data type of num_str\",num_str)\n",
        "print(\"After addition: \",add)"
      ],
      "metadata": {
        "colab": {
          "base_uri": "https://localhost:8080/",
          "height": 245
        },
        "id": "eTCQAjUh35gc",
        "outputId": "7816cc74-6ce4-48d1-f2e3-9e6c3a0f1e73"
      },
      "execution_count": 20,
      "outputs": [
        {
          "output_type": "error",
          "ename": "TypeError",
          "evalue": "ignored",
          "traceback": [
            "\u001b[0;31m---------------------------------------------------------------------------\u001b[0m",
            "\u001b[0;31mTypeError\u001b[0m                                 Traceback (most recent call last)",
            "\u001b[0;32m<ipython-input-20-c5b23e6e9b4b>\u001b[0m in \u001b[0;36m<cell line: 3>\u001b[0;34m()\u001b[0m\n\u001b[1;32m      1\u001b[0m \u001b[0mnum_int\u001b[0m\u001b[0;34m=\u001b[0m\u001b[0;36m25\u001b[0m\u001b[0;34m\u001b[0m\u001b[0;34m\u001b[0m\u001b[0m\n\u001b[1;32m      2\u001b[0m \u001b[0mnum_str\u001b[0m\u001b[0;34m=\u001b[0m\u001b[0;34m\"65\"\u001b[0m\u001b[0;34m\u001b[0m\u001b[0;34m\u001b[0m\u001b[0m\n\u001b[0;32m----> 3\u001b[0;31m \u001b[0madd\u001b[0m \u001b[0;34m=\u001b[0m \u001b[0mnum_int\u001b[0m \u001b[0;34m+\u001b[0m \u001b[0mnum_str\u001b[0m\u001b[0;34m\u001b[0m\u001b[0;34m\u001b[0m\u001b[0m\n\u001b[0m\u001b[1;32m      4\u001b[0m \u001b[0mprint\u001b[0m\u001b[0;34m(\u001b[0m\u001b[0;34m\"Data type of num_int\"\u001b[0m\u001b[0;34m,\u001b[0m\u001b[0mnum_int\u001b[0m\u001b[0;34m)\u001b[0m\u001b[0;34m\u001b[0m\u001b[0;34m\u001b[0m\u001b[0m\n\u001b[1;32m      5\u001b[0m \u001b[0mprint\u001b[0m\u001b[0;34m(\u001b[0m\u001b[0;34m\"Data type of num_str\"\u001b[0m\u001b[0;34m,\u001b[0m\u001b[0mnum_str\u001b[0m\u001b[0;34m)\u001b[0m\u001b[0;34m\u001b[0m\u001b[0;34m\u001b[0m\u001b[0m\n",
            "\u001b[0;31mTypeError\u001b[0m: unsupported operand type(s) for +: 'int' and 'str'"
          ]
        }
      ]
    }
  ]
}