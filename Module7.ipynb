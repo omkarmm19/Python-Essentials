{
  "nbformat": 4,
  "nbformat_minor": 0,
  "metadata": {
    "colab": {
      "provenance": [],
      "authorship_tag": "ABX9TyNj/kRIWHwYq7M3dGk9Enir",
      "include_colab_link": true
    },
    "kernelspec": {
      "name": "python3",
      "display_name": "Python 3"
    },
    "language_info": {
      "name": "python"
    }
  },
  "cells": [
    {
      "cell_type": "markdown",
      "metadata": {
        "id": "view-in-github",
        "colab_type": "text"
      },
      "source": [
        "<a href=\"https://colab.research.google.com/github/omkarmm19/Python-Essentials/blob/main/Module7.ipynb\" target=\"_parent\"><img src=\"https://colab.research.google.com/assets/colab-badge.svg\" alt=\"Open In Colab\"/></a>"
      ]
    },
    {
      "cell_type": "code",
      "execution_count": null,
      "metadata": {
        "colab": {
          "base_uri": "https://localhost:8080/"
        },
        "id": "zbqxRN_yNKS3",
        "outputId": "c2c28d9b-79b0-4df9-d864-72e9d9c9fc4f"
      },
      "outputs": [
        {
          "output_type": "stream",
          "name": "stdout",
          "text": [
            "Value available at index 2: \n",
            "1996\n",
            "New value available at index 2: \n",
            "2001\n"
          ]
        }
      ],
      "source": [
        "list = ['physics','chemistry', 1996,2000];\n",
        "print(\"Value available at index 2: \")\n",
        "print(list[2])\n",
        "list[2]=2001;\n",
        "print(\"New value available at index 2: \")\n",
        "print(list[2])"
      ]
    },
    {
      "cell_type": "code",
      "source": [
        " fruits=[\"orange\",\"kiwi\",\"melon\",\"mango\",\"apple\",\"banana\"]\n",
        " print(fruits[2:5])"
      ],
      "metadata": {
        "colab": {
          "base_uri": "https://localhost:8080/"
        },
        "id": "dxvcJnQlOiOD",
        "outputId": "7b6a459d-f9fd-442e-9827-82255234c6e4"
      },
      "execution_count": null,
      "outputs": [
        {
          "output_type": "stream",
          "name": "stdout",
          "text": [
            "['melon', 'mango', 'apple']\n"
          ]
        }
      ]
    },
    {
      "cell_type": "code",
      "source": [
        " fruits=[\"orange\",\"kiwi\",\"melon\",\"mango\",\"apple\",\"banana\"]\n",
        " print(len(fruits))"
      ],
      "metadata": {
        "colab": {
          "base_uri": "https://localhost:8080/"
        },
        "id": "yKZFnUOgPNVy",
        "outputId": "8bddc878-b95c-4d3a-d5f5-791d3d6580ad"
      },
      "execution_count": null,
      "outputs": [
        {
          "output_type": "stream",
          "name": "stdout",
          "text": [
            "6\n"
          ]
        }
      ]
    },
    {
      "cell_type": "code",
      "source": [
        "thislist=[\"cat\",\"cat\",\"dog\",\"cow\"]\n",
        "print(len(thislist))"
      ],
      "metadata": {
        "colab": {
          "base_uri": "https://localhost:8080/"
        },
        "id": "lcZXA168PZnl",
        "outputId": "51bb8710-00bf-4f73-e751-6c63f159950d"
      },
      "execution_count": null,
      "outputs": [
        {
          "output_type": "stream",
          "name": "stdout",
          "text": [
            "4\n"
          ]
        }
      ]
    },
    {
      "cell_type": "code",
      "source": [
        "list1=[\"a\",\"b\",\"c\"]\n",
        "list2=[1,2,3]\n",
        "\n",
        "list3=list1+list2\n",
        "print(list3)"
      ],
      "metadata": {
        "colab": {
          "base_uri": "https://localhost:8080/"
        },
        "id": "xRaMoypkPuXK",
        "outputId": "4b21a53a-f465-4395-b4bc-14c68a550599"
      },
      "execution_count": null,
      "outputs": [
        {
          "output_type": "stream",
          "name": "stdout",
          "text": [
            "['a', 'b', 'c', 1, 2, 3]\n"
          ]
        }
      ]
    },
    {
      "cell_type": "code",
      "source": [
        "list1=[\"Python\",\"R\",\"Julia\"]\n",
        "list2=[1,2,3]\n",
        "\n",
        "list1.extend(list2)\n",
        "print(list1)"
      ],
      "metadata": {
        "colab": {
          "base_uri": "https://localhost:8080/"
        },
        "id": "TkRlhPPdQFar",
        "outputId": "1f859796-775a-4bf0-cb9b-4a95269e41b7"
      },
      "execution_count": null,
      "outputs": [
        {
          "output_type": "stream",
          "name": "stdout",
          "text": [
            "['Python', 'R', 'Julia', 1, 2, 3]\n"
          ]
        }
      ]
    },
    {
      "cell_type": "code",
      "source": [
        "flowers=[\"rose\",\"sunflower\",\"lotus\",\"lily\"]\n",
        "flowers_copy=flowers.copy()\n",
        "print(flowers_copy)"
      ],
      "metadata": {
        "colab": {
          "base_uri": "https://localhost:8080/"
        },
        "id": "taRDFqpgQyHD",
        "outputId": "88741b01-b454-4511-b4e7-e7e9b6ee261c"
      },
      "execution_count": null,
      "outputs": [
        {
          "output_type": "stream",
          "name": "stdout",
          "text": [
            "['rose', 'sunflower', 'lotus', 'lily']\n"
          ]
        }
      ]
    },
    {
      "cell_type": "code",
      "source": [
        "flowers=[\"rose\",\"sunflower\",\"lotus\",\"lily\"]\n",
        "flowers.remove(\"sunflower\")\n",
        "print(flowers)"
      ],
      "metadata": {
        "colab": {
          "base_uri": "https://localhost:8080/"
        },
        "id": "w5Qc1kb2RKVN",
        "outputId": "9f67160a-4eb7-45a7-8b60-9eb42cbb1ce6"
      },
      "execution_count": null,
      "outputs": [
        {
          "output_type": "stream",
          "name": "stdout",
          "text": [
            "['rose', 'lotus', 'lily']\n"
          ]
        }
      ]
    },
    {
      "cell_type": "code",
      "source": [
        "thislist=[\"cat\",\"dog\",\"cow\"]\n",
        "del thislist[0]\n",
        "print(thislist)"
      ],
      "metadata": {
        "colab": {
          "base_uri": "https://localhost:8080/"
        },
        "id": "LlPo6jqfRgQv",
        "outputId": "6ffaca40-e7e6-4f05-c960-7d6cd1cc42aa"
      },
      "execution_count": null,
      "outputs": [
        {
          "output_type": "stream",
          "name": "stdout",
          "text": [
            "['dog', 'cow']\n"
          ]
        }
      ]
    },
    {
      "cell_type": "code",
      "source": [
        "thislist=[\"cat\",\"dog\",\"cow\"]\n",
        "thislist.pop()\n",
        "print(thislist)"
      ],
      "metadata": {
        "colab": {
          "base_uri": "https://localhost:8080/"
        },
        "id": "9PkGeeQISL8h",
        "outputId": "cdcf6541-b737-4247-a941-d30f4f48657d"
      },
      "execution_count": null,
      "outputs": [
        {
          "output_type": "stream",
          "name": "stdout",
          "text": [
            "['cat', 'dog']\n"
          ]
        }
      ]
    },
    {
      "cell_type": "code",
      "source": [
        "thislist=[\"cat\",\"dog\",\"cow\"]\n",
        "thislist.insert(1,\"horse\")\n",
        "print(thislist)\n",
        "thislist.insert(2,\"elephant\")\n",
        "print(thislist)"
      ],
      "metadata": {
        "colab": {
          "base_uri": "https://localhost:8080/"
        },
        "id": "wHYBZSB1SdcO",
        "outputId": "fe7855e2-9cb5-4cba-9387-b574d1a76af3"
      },
      "execution_count": null,
      "outputs": [
        {
          "output_type": "stream",
          "name": "stdout",
          "text": [
            "['cat', 'horse', 'dog', 'cow']\n",
            "['cat', 'horse', 'elephant', 'dog', 'cow']\n"
          ]
        }
      ]
    },
    {
      "cell_type": "code",
      "source": [
        "thislist=[\"cat\",\"dog\",\"cow\"]\n",
        "thislist.clear()\n",
        "print(thislist)"
      ],
      "metadata": {
        "colab": {
          "base_uri": "https://localhost:8080/"
        },
        "id": "Hwaz4NqRS61J",
        "outputId": "db2de5af-da87-4394-d116-4fcd86c4af1c"
      },
      "execution_count": null,
      "outputs": [
        {
          "output_type": "stream",
          "name": "stdout",
          "text": [
            "[]\n"
          ]
        }
      ]
    },
    {
      "cell_type": "code",
      "source": [
        " fruits=[\"orange\",\"kiwi\",\"melon\",\"mango\",\"apple\",\"banana\"]\n",
        " fruits.reverse()\n",
        " print(fruits)"
      ],
      "metadata": {
        "colab": {
          "base_uri": "https://localhost:8080/"
        },
        "id": "2G_jijN7TOi4",
        "outputId": "b81bc02d-ef25-4ec0-b313-abfbc88cf6f1"
      },
      "execution_count": null,
      "outputs": [
        {
          "output_type": "stream",
          "name": "stdout",
          "text": [
            "['banana', 'apple', 'mango', 'melon', 'kiwi', 'orange']\n"
          ]
        }
      ]
    },
    {
      "cell_type": "code",
      "source": [
        "l = [1,2,3,4]\n",
        "print(l[-3])\n",
        "print(l[-1])\n",
        "print(l[-2])\n"
      ],
      "metadata": {
        "colab": {
          "base_uri": "https://localhost:8080/"
        },
        "id": "pnBrnk3pZXZw",
        "outputId": "e05efdc6-7db9-4ddb-f924-aa72c2e99167"
      },
      "execution_count": null,
      "outputs": [
        {
          "output_type": "stream",
          "name": "stdout",
          "text": [
            "2\n",
            "4\n",
            "3\n"
          ]
        }
      ]
    },
    {
      "cell_type": "code",
      "source": [
        "num1={99,100,101,73,2,5,66}\n",
        "num2={102,100,73,2,5}\n",
        "\n",
        "num1.intersection_update(num2)\n",
        "print(\"Intersection of num1 and num2:\",num1)\n",
        "print(\"The num1:\",num1)\n",
        "print(\"The num2:\",num2)"
      ],
      "metadata": {
        "colab": {
          "base_uri": "https://localhost:8080/"
        },
        "id": "r7vkSzD_aDGw",
        "outputId": "43fe608c-7720-4c9c-d644-f1aef9303a5c"
      },
      "execution_count": null,
      "outputs": [
        {
          "output_type": "stream",
          "name": "stdout",
          "text": [
            "Intersection of num1 and num2: {73, 2, 100, 5}\n",
            "The num1: {73, 2, 100, 5}\n",
            "The num2: {2, 100, 5, 102, 73}\n"
          ]
        }
      ]
    },
    {
      "cell_type": "code",
      "source": [
        "empty_tuple=()\n",
        "print(empty_tuple)"
      ],
      "metadata": {
        "colab": {
          "base_uri": "https://localhost:8080/"
        },
        "id": "skYK9WuCOd4e",
        "outputId": "a6a0ba58-3012-41d5-e6c1-44e1deee8a95"
      },
      "execution_count": null,
      "outputs": [
        {
          "output_type": "stream",
          "name": "stdout",
          "text": [
            "()\n"
          ]
        }
      ]
    },
    {
      "cell_type": "code",
      "source": [
        "num_tuple=(1,2,8,6,56,48499,599)\n",
        "print(num_tuple)\n",
        "print(type(num_tuple))"
      ],
      "metadata": {
        "colab": {
          "base_uri": "https://localhost:8080/"
        },
        "id": "u-SUXVWdOucM",
        "outputId": "c9b95810-bdaa-4674-e047-890072afecdf"
      },
      "execution_count": null,
      "outputs": [
        {
          "output_type": "stream",
          "name": "stdout",
          "text": [
            "(1, 2, 8, 6, 56, 48499, 599)\n",
            "<class 'tuple'>\n"
          ]
        }
      ]
    },
    {
      "cell_type": "code",
      "source": [
        "mix_tupl=(1,259,\"bumblebee\",2.5,8.9,\"Camro\")\n",
        "print(mix_tupl)\n",
        "print(type(mix_tupl))"
      ],
      "metadata": {
        "colab": {
          "base_uri": "https://localhost:8080/"
        },
        "id": "iIZLlABVPYkC",
        "outputId": "70fbfcb6-309a-41f1-b51c-783b2299fe49"
      },
      "execution_count": null,
      "outputs": [
        {
          "output_type": "stream",
          "name": "stdout",
          "text": [
            "(1, 259, 'bumblebee', 2.5, 8.9, 'Camro')\n",
            "<class 'tuple'>\n"
          ]
        }
      ]
    },
    {
      "cell_type": "code",
      "source": [
        "nest=(\"camera\",[8,0,0,5],(\"car\",5))\n",
        "print(nest)\n",
        "print(type(nest))"
      ],
      "metadata": {
        "colab": {
          "base_uri": "https://localhost:8080/"
        },
        "id": "2jQyTU2EQN4Q",
        "outputId": "fa3d4d09-775b-4894-9f0a-1c2f815e8e24"
      },
      "execution_count": null,
      "outputs": [
        {
          "output_type": "stream",
          "name": "stdout",
          "text": [
            "('camera', [8, 0, 0, 5], ('car', 5))\n",
            "<class 'tuple'>\n"
          ]
        }
      ]
    },
    {
      "cell_type": "code",
      "source": [
        "multi_tuple=(8005,20,\"Vityarthi\",40,\"car\",\"Autobot\",\"Python\",2007)\n",
        "print(multi_tuple)"
      ],
      "metadata": {
        "colab": {
          "base_uri": "https://localhost:8080/"
        },
        "id": "vRqwBmlXQuqP",
        "outputId": "53e91374-7900-4ed3-fac2-02522c8e72d0"
      },
      "execution_count": null,
      "outputs": [
        {
          "output_type": "stream",
          "name": "stdout",
          "text": [
            "(8005, 20, 'Vityarthi', 40, 'car', 'Autobot', 'Python', 2007)\n"
          ]
        }
      ]
    },
    {
      "cell_type": "code",
      "source": [
        "print(multi_tuple[1:5])"
      ],
      "metadata": {
        "colab": {
          "base_uri": "https://localhost:8080/"
        },
        "id": "dvCQ1BKIRMho",
        "outputId": "bc00bcb8-2543-4ef9-9712-125827212932"
      },
      "execution_count": null,
      "outputs": [
        {
          "output_type": "stream",
          "name": "stdout",
          "text": [
            "(20, 'Vityarthi', 40, 'car')\n"
          ]
        }
      ]
    },
    {
      "cell_type": "code",
      "source": [
        "print(multi_tuple[0])\n",
        "print(multi_tuple[2])\n",
        "\n",
        "print(\"Negative Index:\")\n",
        "print(multi_tuple[-1])\n",
        "print(multi_tuple[-2])"
      ],
      "metadata": {
        "colab": {
          "base_uri": "https://localhost:8080/"
        },
        "id": "zuCBLc5SRanx",
        "outputId": "8c6bf659-7db0-4f66-cb22-cf4c0fe13856"
      },
      "execution_count": null,
      "outputs": [
        {
          "output_type": "stream",
          "name": "stdout",
          "text": [
            "8005\n",
            "Vityarthi\n",
            "Negative Index:\n",
            "2007\n",
            "Python\n"
          ]
        }
      ]
    },
    {
      "cell_type": "code",
      "source": [
        "nest=([8,0,0,5],\"camro\",(\"car\",5))\n",
        "print(nest[2][0])\n",
        "print(nest[0][3])"
      ],
      "metadata": {
        "colab": {
          "base_uri": "https://localhost:8080/"
        },
        "id": "E27E08nWR00h",
        "outputId": "0c40538c-90de-4fce-f45d-cb207af1983b"
      },
      "execution_count": null,
      "outputs": [
        {
          "output_type": "stream",
          "name": "stdout",
          "text": [
            "car\n",
            "5\n"
          ]
        }
      ]
    },
    {
      "cell_type": "code",
      "source": [
        "car=(\"camro\",\"ferrari\",\"Rolls Royce\")\n",
        "add=(20,70)\n",
        "print(car+add)"
      ],
      "metadata": {
        "colab": {
          "base_uri": "https://localhost:8080/"
        },
        "id": "MErfD5YASUtE",
        "outputId": "c4af2d3b-96f0-4860-e3e3-6938db463356"
      },
      "execution_count": null,
      "outputs": [
        {
          "output_type": "stream",
          "name": "stdout",
          "text": [
            "('camro', 'ferrari', 'Rolls Royce', 20, 70)\n"
          ]
        }
      ]
    },
    {
      "cell_type": "code",
      "source": [
        "print(add*2)"
      ],
      "metadata": {
        "colab": {
          "base_uri": "https://localhost:8080/"
        },
        "id": "XPN_9eR2SnIk",
        "outputId": "80ffe243-916d-4f93-c25f-caf813876eb7"
      },
      "execution_count": null,
      "outputs": [
        {
          "output_type": "stream",
          "name": "stdout",
          "text": [
            "(20, 70, 20, 70)\n"
          ]
        }
      ]
    },
    {
      "cell_type": "code",
      "source": [
        " fruits=[\"orange\",\"kiwi\",\"melon\",\"mango\",\"apple\",\"banana\"]\n",
        " print(\"Length of the tuple fruits:\",len(fruits))"
      ],
      "metadata": {
        "colab": {
          "base_uri": "https://localhost:8080/"
        },
        "id": "KRmgV4oBS1dd",
        "outputId": "038f8212-a3de-4267-a9bc-fa08dff5eaf3"
      },
      "execution_count": null,
      "outputs": [
        {
          "output_type": "stream",
          "name": "stdout",
          "text": [
            "Length of the tuple fruits: 6\n"
          ]
        }
      ]
    },
    {
      "cell_type": "code",
      "source": [
        "print(\"Index value of the mango in the tuple:\",fruits.index(\"mango\"))"
      ],
      "metadata": {
        "colab": {
          "base_uri": "https://localhost:8080/"
        },
        "id": "CMmQnVCRS__E",
        "outputId": "002d3e1c-d7a2-4b14-8729-1bf7dfa59838"
      },
      "execution_count": null,
      "outputs": [
        {
          "output_type": "stream",
          "name": "stdout",
          "text": [
            "Index value of the mango in the tuple: 3\n"
          ]
        }
      ]
    },
    {
      "cell_type": "code",
      "source": [
        "num=(2.45,20,8005,3,2007,67)\n",
        "elm=(2,3,45)\n",
        "\n",
        "print(\"Is 45 present in the tuple:\",45 in num)\n",
        "print(\"Is 100 present in the tuple:\",100 in num)\n",
        "print(\"Is 55 not present in the tuple:\",55 not in num)\n",
        "\n",
        "print(\"Is num equal to elm:\",num==elm)\n",
        "print(\"Is num not equal to elm:\",num!=elm)"
      ],
      "metadata": {
        "colab": {
          "base_uri": "https://localhost:8080/"
        },
        "id": "IasyE9rvTbBd",
        "outputId": "747ac23e-3d28-48cf-fccc-5bb65fc33fec"
      },
      "execution_count": null,
      "outputs": [
        {
          "output_type": "stream",
          "name": "stdout",
          "text": [
            "Is 45 present in the tuple: False\n",
            "Is 100 present in the tuple: False\n",
            "Is 55 not present in the tuple: True\n",
            "Is num equal to elm: False\n",
            "Is num not equal to elm: True\n"
          ]
        }
      ]
    },
    {
      "cell_type": "code",
      "source": [
        "nums=(1,3,5,6,8,9,45,25,3,3,55,3)\n",
        "print(\"how many 3 are present in tuple:\",nums.count(3))\n",
        "print(\"minimum value:\",min(nums))\n",
        "print(\"maximum value:\",max(nums))\n",
        "del(nums)"
      ],
      "metadata": {
        "colab": {
          "base_uri": "https://localhost:8080/"
        },
        "id": "eLLSMZojUWwv",
        "outputId": "5f7d8ca9-f0b0-4c7b-ead3-b67c9538636c"
      },
      "execution_count": null,
      "outputs": [
        {
          "output_type": "stream",
          "name": "stdout",
          "text": [
            "how many 3 are present in tuple: 4\n",
            "minimum value: 1\n",
            "maximum value: 55\n"
          ]
        }
      ]
    },
    {
      "cell_type": "code",
      "source": [
        "First_set={21,15,97,55}\n",
        "print(First_set)\n",
        "print(type(First_set))\n",
        "\n",
        "sec_set={(1,3,5),\"Apple\",7.5,8.5,9.5}\n",
        "print(sec_set)\n",
        "print(type(sec_set))"
      ],
      "metadata": {
        "colab": {
          "base_uri": "https://localhost:8080/"
        },
        "id": "Z2R-4B81U-TW",
        "outputId": "b6d5fe5d-304b-46ec-f3b2-44ded279110b"
      },
      "execution_count": null,
      "outputs": [
        {
          "output_type": "stream",
          "name": "stdout",
          "text": [
            "{97, 15, 21, 55}\n",
            "<class 'set'>\n",
            "{7.5, (1, 3, 5), 8.5, 9.5, 'Apple'}\n",
            "<class 'set'>\n"
          ]
        }
      ]
    },
    {
      "cell_type": "code",
      "source": [
        "num={11,35,53,17,97,15,11,11}\n",
        "print(num)\n",
        "\n",
        "colors={\"red\",\"yellow\",\"blue\",\"yellow\",\"pink\",\"white\",\"red\",\"orange\"}\n",
        "print(colors)"
      ],
      "metadata": {
        "colab": {
          "base_uri": "https://localhost:8080/"
        },
        "id": "h6qKtcxdVrtH",
        "outputId": "e966c7c4-8050-4e35-fa4a-353dbf0f3b00"
      },
      "execution_count": null,
      "outputs": [
        {
          "output_type": "stream",
          "name": "stdout",
          "text": [
            "{97, 17, 35, 53, 11, 15}\n",
            "{'red', 'pink', 'yellow', 'blue', 'orange', 'white'}\n"
          ]
        }
      ]
    },
    {
      "cell_type": "code",
      "source": [
        "this=set((\"Maruti\",11,15,19,18.5))\n",
        "print(this)\n",
        "print(type(this))\n",
        "\n",
        "that=([\"Maruti\",1,5,9,8.5])\n",
        "print(that)\n",
        "print(type(that))"
      ],
      "metadata": {
        "colab": {
          "base_uri": "https://localhost:8080/"
        },
        "id": "vd8L-7tQWfJk",
        "outputId": "e590df69-ea50-40f1-ff6b-45883091bd59"
      },
      "execution_count": null,
      "outputs": [
        {
          "output_type": "stream",
          "name": "stdout",
          "text": [
            "{11, 15, 18.5, 19, 'Maruti'}\n",
            "<class 'set'>\n",
            "['Maruti', 1, 5, 9, 8.5]\n",
            "<class 'list'>\n"
          ]
        }
      ]
    },
    {
      "cell_type": "code",
      "source": [
        "cars={\"Nissan\",\"Maruti\",\"Chevrolet\"}\n",
        "cars.add(\"Rolls Royce\")\n",
        "print(\"Name of cars:\",cars)\n",
        "\n",
        "fruit={\"apple\",\"orange\",\"banana\"}\n",
        "add_fruit={\"kiwi\",\"papaya\"}\n",
        "fruit.update(add_fruit)\n",
        "print(\"Name of fruits\",fruit)\n",
        "\n",
        "prime={2,3,5,7}\n",
        "num=[11,13,17]\n",
        "prime.update(num)\n",
        "print(\"prime numbers:\",prime)"
      ],
      "metadata": {
        "colab": {
          "base_uri": "https://localhost:8080/"
        },
        "id": "u1Md79YUXpIi",
        "outputId": "1ced762d-fa7a-459f-dd18-89c9932ddd73"
      },
      "execution_count": null,
      "outputs": [
        {
          "output_type": "stream",
          "name": "stdout",
          "text": [
            "Name of cars: {'Rolls Royce', 'Chevrolet', 'Nissan', 'Maruti'}\n",
            "Name of fruits {'kiwi', 'papaya', 'apple', 'orange', 'banana'}\n",
            "prime numbers: {2, 3, 5, 7, 11, 13, 17}\n"
          ]
        }
      ]
    },
    {
      "cell_type": "code",
      "source": [
        "cars={\"Lamborgini\",\"Nissan\",\"Maruti\",\"Chevrolet\"}\n",
        "print(\"cars list before adding:\",cars)\n",
        "\n",
        "new_cars=cars\n",
        "add_car={\"Rolls Royce\",\"BMW\",\"Jaguar\"}\n",
        "new_cars.update(add_car)\n",
        "print(\"New car list\",new_cars)"
      ],
      "metadata": {
        "colab": {
          "base_uri": "https://localhost:8080/"
        },
        "id": "f6Tw1LyjbtMk",
        "outputId": "1449f3e8-253c-4230-c1bc-1a7d6add2bff"
      },
      "execution_count": null,
      "outputs": [
        {
          "output_type": "stream",
          "name": "stdout",
          "text": [
            "cars list before adding: {'Lamborgini', 'Chevrolet', 'Nissan', 'Maruti'}\n",
            "New car list {'Rolls Royce', 'BMW', 'Maruti', 'Lamborgini', 'Chevrolet', 'Nissan', 'Jaguar'}\n"
          ]
        }
      ]
    },
    {
      "cell_type": "code",
      "source": [
        "num1={1,99,5,7,6,23}\n",
        "num2={23,22,99,73,85}\n",
        "\n",
        "new_num=num1.difference(num2)\n",
        "print(\"Value of num1-num2:\",new_num)\n",
        "\n",
        "new_num1=num2.difference(num1)\n",
        "print(\"Value of num2-num1:\",new_num1)"
      ],
      "metadata": {
        "colab": {
          "base_uri": "https://localhost:8080/"
        },
        "id": "pFcZ63uVcWPK",
        "outputId": "b6ddfe57-437e-483f-a18d-80ca4a166bff"
      },
      "execution_count": null,
      "outputs": [
        {
          "output_type": "stream",
          "name": "stdout",
          "text": [
            "Value of num1-num2: {1, 5, 6, 7}\n",
            "Value of num2-num1: {73, 85, 22}\n"
          ]
        }
      ]
    },
    {
      "cell_type": "code",
      "source": [
        "A={\"Lamborgini\",\"Nissan\",\"Maruti\",\"Chevrolet\",\"Jaguar\"}\n",
        "B={\"Rolls Rpyce\",\"BMW\",\"Jaguar\"}\n",
        "\n",
        "res=A.difference_update(B)\n",
        "\n",
        "print('result= ',res)\n",
        "print(A)"
      ],
      "metadata": {
        "colab": {
          "base_uri": "https://localhost:8080/"
        },
        "id": "3Hm-CWIDd-_l",
        "outputId": "c2f9626e-93aa-4c6d-d07a-81faceda228b"
      },
      "execution_count": null,
      "outputs": [
        {
          "output_type": "stream",
          "name": "stdout",
          "text": [
            "result=  None\n",
            "{'Maruti', 'Lamborgini', 'Chevrolet', 'Nissan'}\n"
          ]
        }
      ]
    },
    {
      "cell_type": "code",
      "source": [
        "num1={99,100,101,2,5,66}\n",
        "num2={102,100,73,2,5}\n",
        "\n",
        "num3=num1.intersection(num2)\n",
        "print(\"Value of intersection of num1 and num2:\",num3)\n",
        "\n",
        "fruit={\"apple\",\"orange\",\"banana\",\"papaya\"}\n",
        "fruit2={\"apple\",\"watermelon\",\"papaya\",\"banana\"}\n",
        "\n",
        "fruit3=fruit.intersection(fruit2)\n",
        "print(\"value of intersection of fruit and fruit2:\",fruit3)"
      ],
      "metadata": {
        "colab": {
          "base_uri": "https://localhost:8080/"
        },
        "id": "XknuYUD1euS4",
        "outputId": "347f579e-5662-4c0a-e29e-db89c4548dd6"
      },
      "execution_count": null,
      "outputs": [
        {
          "output_type": "stream",
          "name": "stdout",
          "text": [
            "Value of intersection of num1 and num2: {2, 100, 5}\n",
            "value of intersection of fruit and fruit2: {'banana', 'papaya', 'apple'}\n"
          ]
        }
      ]
    },
    {
      "cell_type": "code",
      "source": [
        "num1={99,100,101,2,5,66}\n",
        "num2={102,100,73,2,5}\n",
        "\n",
        "num1.intersection_update(num2)\n",
        "print(\"Intersection of num1 and num2:\",num1)\n",
        "print(\"The num1:\",num1)\n",
        "print(\"The num2:\",num2)"
      ],
      "metadata": {
        "colab": {
          "base_uri": "https://localhost:8080/"
        },
        "id": "OWASTkYugc2-",
        "outputId": "b11b8252-db6e-4653-f33a-93a98f688329"
      },
      "execution_count": null,
      "outputs": [
        {
          "output_type": "stream",
          "name": "stdout",
          "text": [
            "Intersection of num1 and num2: {2, 100, 5}\n",
            "The num1: {2, 100, 5}\n",
            "The num2: {2, 100, 5, 102, 73}\n"
          ]
        }
      ]
    },
    {
      "cell_type": "code",
      "source": [
        "num1={99,100,101,2,5,66}\n",
        "num2={102,100,73,2,5}\n",
        "num3={103,98,104}\n",
        "\n",
        "print(\"Are num1 and num2 disjoint:\", num1.isdisjoint(num2))\n",
        "print(\"Are num1 and num3 disjoint:\", num1.isdisjoint(num3))"
      ],
      "metadata": {
        "colab": {
          "base_uri": "https://localhost:8080/"
        },
        "id": "9qU3xvwehOdq",
        "outputId": "25f1aaef-6675-4cb6-f4eb-f5ca6dca6b56"
      },
      "execution_count": null,
      "outputs": [
        {
          "output_type": "stream",
          "name": "stdout",
          "text": [
            "Are num1 and num2 disjoint: False\n",
            "Are num1 and num3 disjoint: True\n"
          ]
        }
      ]
    },
    {
      "cell_type": "code",
      "source": [
        "num1={99,100,101,2,5,66}\n",
        "num2={102,100,73,2,5}\n",
        "num3={103,98,104}\n",
        "\n",
        "print(\"Is num1 subset of num2:\",num1.issubset(num2))\n",
        "print(\"Is num2 subset of num1:\",num2.issubset(num1))\n",
        "print(\"Is num3 subset of num1:\",num3.issubset(num1))"
      ],
      "metadata": {
        "colab": {
          "base_uri": "https://localhost:8080/"
        },
        "id": "DVSoa7HXiHFC",
        "outputId": "fc2a45dc-7949-4d1d-f2cd-013e5946e90a"
      },
      "execution_count": null,
      "outputs": [
        {
          "output_type": "stream",
          "name": "stdout",
          "text": [
            "Is num1 subset of num2: False\n",
            "Is num2 subset of num1: False\n",
            "Is num3 subset of num1: False\n"
          ]
        }
      ]
    },
    {
      "cell_type": "code",
      "source": [
        "num1={99,100,101,2,5,66}\n",
        "num2={102,100,73,2,5}\n",
        "\n",
        "num1.intersection_update(num2)\n",
        "print(\"Intersection of num1 and num2:\",num1)\n",
        "print(\"The num1:\",num1)\n",
        "print(\"The num2:\",num2)"
      ],
      "metadata": {
        "colab": {
          "base_uri": "https://localhost:8080/"
        },
        "id": "sYUNX-l-i8wa",
        "outputId": "bafe4745-a36c-4b09-be8b-e24eee77061d"
      },
      "execution_count": null,
      "outputs": [
        {
          "output_type": "stream",
          "name": "stdout",
          "text": [
            "Intersection of num1 and num2: {2, 100, 5}\n",
            "The num1: {2, 100, 5}\n",
            "The num2: {2, 100, 5, 102, 73}\n"
          ]
        }
      ]
    },
    {
      "cell_type": "code",
      "source": [
        "num1={4,5,6,7,8,9}\n",
        "num2={4,5,7,9}\n",
        "num1={5,7,8}\n",
        "\n",
        "set1=num1.issuperset(num2)\n",
        "print(\"num1 is superset of num2:\",set1)\n",
        "set2=num2.issuperset(num1)\n",
        "print(\"num2 is superset of num1:\",set2)\n",
        "set3=num1.issuperset(num3)\n",
        "print(\"num1 is superset of num3:\",set3)"
      ],
      "metadata": {
        "colab": {
          "base_uri": "https://localhost:8080/"
        },
        "id": "SgXL3VDokEo3",
        "outputId": "8a18a625-0c27-4e96-d28c-5b863c5e67bc"
      },
      "execution_count": null,
      "outputs": [
        {
          "output_type": "stream",
          "name": "stdout",
          "text": [
            "num1 is superset of num2: False\n",
            "num2 is superset of num1: False\n",
            "num1 is superset of num3: False\n"
          ]
        }
      ]
    },
    {
      "cell_type": "code",
      "source": [
        "num1={4,5,6,7,8,9}\n",
        "num2={4,5,7,9}\n",
        "num3={5,7,8}\n",
        "\n",
        "set1=num1.symmetric_difference(num2)\n",
        "print(\"Symmetric difference of num1 and num2:\",set1)\n",
        "set2=num1.symmetric_difference(num3)\n",
        "print(\"Symmetric difference of num1 and num3:\",set2)\n",
        "set3=num2.symmetric_difference(num3)\n",
        "print(\"Symmetric difference of num2 and num3:\",set3)"
      ],
      "metadata": {
        "id": "u_9ADrZxlz3-",
        "colab": {
          "base_uri": "https://localhost:8080/"
        },
        "outputId": "e7ff0419-9a44-4853-8026-22561f5f60d6"
      },
      "execution_count": 11,
      "outputs": [
        {
          "output_type": "stream",
          "name": "stdout",
          "text": [
            "Symmetric difference of num1 and num2: {6, 8}\n",
            "Symmetric difference of num1 and num3: {4, 6, 9}\n",
            "Symmetric difference of num2 and num3: {4, 8, 9}\n"
          ]
        }
      ]
    },
    {
      "cell_type": "code",
      "source": [
        "num1={4,5,6,7,8,9}\n",
        "num2={4,5,7,9}\n",
        "\n",
        "set1=num1.symmetric_difference_update(num2)\n",
        "print(\"Symmetric difference update of num1 and num2:\",set1)\n",
        "print(\"num1:\",num1)\n",
        "print(\"num2:\",num2)"
      ],
      "metadata": {
        "id": "hST7L0z1l9KI",
        "colab": {
          "base_uri": "https://localhost:8080/"
        },
        "outputId": "6f6bcdba-525e-4bff-cdca-d85bddb30166"
      },
      "execution_count": 6,
      "outputs": [
        {
          "output_type": "stream",
          "name": "stdout",
          "text": [
            "Symmetric difference update of num1 and num2: None\n",
            "num1: {6, 8}\n",
            "num2: {9, 4, 5, 7}\n"
          ]
        }
      ]
    },
    {
      "cell_type": "code",
      "source": [
        "cars={\"Nissan\",\"Honda\",\"Chevrolet\",\"BMW\"}\n",
        "print(\"cars Name before clear function:\",cars)\n",
        "\n",
        "cars.clear()\n",
        "print(\"cars Name after clear function:\",cars)"
      ],
      "metadata": {
        "id": "9HvCyzwHmrS9",
        "colab": {
          "base_uri": "https://localhost:8080/"
        },
        "outputId": "af678836-5dd9-4609-9ef8-de1166d77030"
      },
      "execution_count": 10,
      "outputs": [
        {
          "output_type": "stream",
          "name": "stdout",
          "text": [
            "cars Name before clear function: {'Honda', 'Chevrolet', 'BMW', 'Nissan'}\n",
            "cars Name after clear function: set()\n"
          ]
        }
      ]
    },
    {
      "cell_type": "code",
      "source": [
        "dict={}\n",
        "print(dict)"
      ],
      "metadata": {
        "colab": {
          "base_uri": "https://localhost:8080/"
        },
        "id": "DvR6TRq0KWWq",
        "outputId": "476f6196-dd3b-46ce-e044-2f0b5eeba7e4"
      },
      "execution_count": 12,
      "outputs": [
        {
          "output_type": "stream",
          "name": "stdout",
          "text": [
            "{}\n"
          ]
        }
      ]
    },
    {
      "cell_type": "code",
      "source": [
        "fruit1={\"name\":\"Apple\",\"Color\":\"red\",\"Qnt\":2}\n",
        "print(fruit1)"
      ],
      "metadata": {
        "colab": {
          "base_uri": "https://localhost:8080/"
        },
        "id": "D9u1stu2KmHz",
        "outputId": "fc77f0cf-7c3d-4154-8c8d-77f094b25c8a"
      },
      "execution_count": 13,
      "outputs": [
        {
          "output_type": "stream",
          "name": "stdout",
          "text": [
            "{'name': 'Apple', 'Color': 'red', 'Qnt': 2}\n"
          ]
        }
      ]
    },
    {
      "cell_type": "code",
      "source": [
        "print(fruit1[\"Color\"])"
      ],
      "metadata": {
        "colab": {
          "base_uri": "https://localhost:8080/"
        },
        "id": "3MdERR5cK69m",
        "outputId": "b7490770-4c56-40d6-cb3f-2ca281a3c639"
      },
      "execution_count": 14,
      "outputs": [
        {
          "output_type": "stream",
          "name": "stdout",
          "text": [
            "red\n"
          ]
        }
      ]
    },
    {
      "cell_type": "code",
      "source": [
        "fruit1={\"name\":\"Apple\",\"Color\":\"red\",\"Qnt\":2}\n",
        "fruit1[\"Qnt\"]=200\n",
        "print(fruit1)"
      ],
      "metadata": {
        "colab": {
          "base_uri": "https://localhost:8080/"
        },
        "id": "AECFEe5ULEY7",
        "outputId": "8fff7499-dc59-4684-97f8-4c94bfd11b0e"
      },
      "execution_count": 15,
      "outputs": [
        {
          "output_type": "stream",
          "name": "stdout",
          "text": [
            "{'name': 'Apple', 'Color': 'red', 'Qnt': 200}\n"
          ]
        }
      ]
    },
    {
      "cell_type": "code",
      "source": [
        "print(len(fruit1))"
      ],
      "metadata": {
        "colab": {
          "base_uri": "https://localhost:8080/"
        },
        "id": "1KEHHiocLRTg",
        "outputId": "699d9df6-af81-494c-9eda-7a4fb65d407d"
      },
      "execution_count": 16,
      "outputs": [
        {
          "output_type": "stream",
          "name": "stdout",
          "text": [
            "3\n"
          ]
        }
      ]
    },
    {
      "cell_type": "code",
      "source": [
        "fruit1={\"name\":\"Apple\",\"Color\":\"red\",\"Qnt\":2}\n",
        "fruit1[\"type\"]=\"Golden Delicious\"\n",
        "print(fruit1)"
      ],
      "metadata": {
        "colab": {
          "base_uri": "https://localhost:8080/"
        },
        "id": "CMemrhcELVm4",
        "outputId": "84cb91a6-517c-404d-defb-0c8a86d21082"
      },
      "execution_count": 17,
      "outputs": [
        {
          "output_type": "stream",
          "name": "stdout",
          "text": [
            "{'name': 'Apple', 'Color': 'red', 'Qnt': 2, 'type': 'Golden Delicious'}\n"
          ]
        }
      ]
    },
    {
      "cell_type": "code",
      "source": [
        "fruit1={\"name\":\"Apple\",\"Color\":\"red\",\"Qnt\":2}\n",
        "fruit2={\"name\":\"Strawberry\",\"Color\":\"pink\",\"Qnt\":5}\n",
        "\n",
        "Fruitbasket={\n",
        "    \"fruit1\" : fruit1,\n",
        "    \"fruit2\" : fruit2,\n",
        "}\n",
        "print(Fruitbasket)\n",
        ""
      ],
      "metadata": {
        "colab": {
          "base_uri": "https://localhost:8080/"
        },
        "id": "LcKPZTAsLoVw",
        "outputId": "5942134e-db82-4882-dec3-e437b8b1d2d9"
      },
      "execution_count": 20,
      "outputs": [
        {
          "output_type": "stream",
          "name": "stdout",
          "text": [
            "{'fruit1': {'name': 'Apple', 'Color': 'red', 'Qnt': 2}, 'fruit2': {'name': 'Strawberry', 'Color': 'pink', 'Qnt': 5}}\n"
          ]
        }
      ]
    },
    {
      "cell_type": "code",
      "source": [
        "fruit1={\"name\":\"Apple\",\"Color\":\"red\",\"Qnt\":2}\n",
        "fruitcopy=fruit1.copy()\n",
        "print(fruitcopy)"
      ],
      "metadata": {
        "colab": {
          "base_uri": "https://localhost:8080/"
        },
        "id": "CSlauCx5MYPc",
        "outputId": "6e9a8c73-418d-4fe3-8316-7eeb949545cd"
      },
      "execution_count": 21,
      "outputs": [
        {
          "output_type": "stream",
          "name": "stdout",
          "text": [
            "{'name': 'Apple', 'Color': 'red', 'Qnt': 2}\n"
          ]
        }
      ]
    },
    {
      "cell_type": "code",
      "source": [
        "fruit1={\"name\":\"Apple\",\"Color\":\"red\",\"Qnt\":2}\n",
        "fruit1.update({\"Color\":\"green\"})\n",
        "fruit1.update({\"Qnt\":20})\n",
        "print(fruit1)"
      ],
      "metadata": {
        "colab": {
          "base_uri": "https://localhost:8080/"
        },
        "id": "YTUrzcMtM1rK",
        "outputId": "ed7106e9-d989-4493-a595-3a2dee78ea8f"
      },
      "execution_count": 22,
      "outputs": [
        {
          "output_type": "stream",
          "name": "stdout",
          "text": [
            "{'name': 'Apple', 'Color': 'green', 'Qnt': 20}\n"
          ]
        }
      ]
    },
    {
      "cell_type": "code",
      "source": [
        "fruit1={\"name\":\"Apple\",\"Color\":\"red\",\"Qnt\":2}\n",
        "reversed_dictionary={value:key for (key,value) in fruit1.items()}\n",
        "print(reversed_dictionary)"
      ],
      "metadata": {
        "colab": {
          "base_uri": "https://localhost:8080/"
        },
        "id": "bY8NsDugNjCp",
        "outputId": "9808d001-45e6-4bc4-900e-22ddf65efc2f"
      },
      "execution_count": 23,
      "outputs": [
        {
          "output_type": "stream",
          "name": "stdout",
          "text": [
            "{'Apple': 'name', 'red': 'Color', 2: 'Qnt'}\n"
          ]
        }
      ]
    },
    {
      "cell_type": "code",
      "source": [
        "fruits=('Green Apple','Yellow Apple','Red Apple')\n",
        "Qnt=20\n",
        "thisdict=dict.fromkeys(fruits,Qnt)\n",
        "print(thisdict)"
      ],
      "metadata": {
        "colab": {
          "base_uri": "https://localhost:8080/"
        },
        "id": "GllIuSLcOHpT",
        "outputId": "fdee0131-f962-462f-b420-1aa1377ac5b0"
      },
      "execution_count": 24,
      "outputs": [
        {
          "output_type": "stream",
          "name": "stdout",
          "text": [
            "{'Green Apple': 20, 'Yellow Apple': 20, 'Red Apple': 20}\n"
          ]
        }
      ]
    },
    {
      "cell_type": "code",
      "source": [
        "fruit1={\"name\":\"Apple\",\"Color\":\"red\",\"Qnt\":2}\n",
        "x=fruit1.setdefault(\"Color\",\"green\")\n",
        "print(x)\n",
        "print(fruit1)"
      ],
      "metadata": {
        "colab": {
          "base_uri": "https://localhost:8080/"
        },
        "id": "RUATG3a6O1WN",
        "outputId": "038adc79-32c0-49d8-d147-1ba69a23e6c4"
      },
      "execution_count": 26,
      "outputs": [
        {
          "output_type": "stream",
          "name": "stdout",
          "text": [
            "red\n",
            "{'name': 'Apple', 'Color': 'red', 'Qnt': 2}\n"
          ]
        }
      ]
    },
    {
      "cell_type": "code",
      "source": [
        "fruit1={\"name\":\"Apple\",\"Color\":\"red\",\"Qnt\":2}\n",
        "x=fruit1.setdefault(\"Type\",\"Cripps Pink\")\n",
        "print(x)\n",
        "print(fruit1)"
      ],
      "metadata": {
        "colab": {
          "base_uri": "https://localhost:8080/"
        },
        "id": "bImIjGE0PYNQ",
        "outputId": "ff326626-9d9f-429a-ba2f-84fbcd277ec7"
      },
      "execution_count": 28,
      "outputs": [
        {
          "output_type": "stream",
          "name": "stdout",
          "text": [
            "Cripps Pink\n",
            "{'name': 'Apple', 'Color': 'red', 'Qnt': 2, 'Type': 'Cripps Pink'}\n"
          ]
        }
      ]
    },
    {
      "cell_type": "code",
      "source": [
        "fruit1={\"name\":\"Apple\",\"Color\":\"red\",\"Qnt\":2}\n",
        "for item in fruit1.keys():\n",
        "  print(item)"
      ],
      "metadata": {
        "colab": {
          "base_uri": "https://localhost:8080/"
        },
        "id": "NZdrCRjUPtV1",
        "outputId": "b29d9b06-8351-46d4-edd8-5e771ef6c8fb"
      },
      "execution_count": 29,
      "outputs": [
        {
          "output_type": "stream",
          "name": "stdout",
          "text": [
            "name\n",
            "Color\n",
            "Qnt\n"
          ]
        }
      ]
    },
    {
      "cell_type": "code",
      "source": [
        "fruit1={\"name\":\"Apple\",\"Color\":\"red\",\"Qnt\":2}\n",
        "for item in fruit1.values():\n",
        "  print(item)"
      ],
      "metadata": {
        "colab": {
          "base_uri": "https://localhost:8080/"
        },
        "id": "9a6HcYrFQJ_p",
        "outputId": "c780cfc6-5811-42fd-a6d9-e008b9b376a5"
      },
      "execution_count": 30,
      "outputs": [
        {
          "output_type": "stream",
          "name": "stdout",
          "text": [
            "Apple\n",
            "red\n",
            "2\n"
          ]
        }
      ]
    },
    {
      "cell_type": "code",
      "source": [
        "fruit1={\"name\":\"Apple\",\"Color\":\"red\",\"Qnt\":2}\n",
        "fruit1.values()"
      ],
      "metadata": {
        "colab": {
          "base_uri": "https://localhost:8080/"
        },
        "id": "Cu8nedw3Qqj-",
        "outputId": "2dd1f49f-b540-4136-eb2c-5c39836c706b"
      },
      "execution_count": 31,
      "outputs": [
        {
          "output_type": "execute_result",
          "data": {
            "text/plain": [
              "dict_values(['Apple', 'red', 2])"
            ]
          },
          "metadata": {},
          "execution_count": 31
        }
      ]
    },
    {
      "cell_type": "code",
      "source": [
        "fruit1={\"name\":\"Apple\",\"Color\":\"red\",\"Qnt\":2}\n",
        "fruit1.keys()"
      ],
      "metadata": {
        "colab": {
          "base_uri": "https://localhost:8080/"
        },
        "id": "KZjGOGqIQxtq",
        "outputId": "d056862c-3c2d-431e-b9c0-ad1b22bba622"
      },
      "execution_count": 32,
      "outputs": [
        {
          "output_type": "execute_result",
          "data": {
            "text/plain": [
              "dict_keys(['name', 'Color', 'Qnt'])"
            ]
          },
          "metadata": {},
          "execution_count": 32
        }
      ]
    },
    {
      "cell_type": "code",
      "source": [
        "fruit1={\"name\":\"Apple\",\"Color\":\"red\",\"Qnt\":2}\n",
        "fruit1.clear()\n",
        "print(fruit1)"
      ],
      "metadata": {
        "colab": {
          "base_uri": "https://localhost:8080/"
        },
        "id": "HS2R_pBUQ2tl",
        "outputId": "91642280-2494-486a-b622-d398ca2c2e0c"
      },
      "execution_count": 34,
      "outputs": [
        {
          "output_type": "stream",
          "name": "stdout",
          "text": [
            "{}\n"
          ]
        }
      ]
    },
    {
      "cell_type": "code",
      "source": [
        "fruit1={\"name\":\"Apple\",\"Color\":\"red\",\"Qnt\":2}\n",
        "fruit1.pop(\"Color\")\n",
        "print(fruit1)"
      ],
      "metadata": {
        "colab": {
          "base_uri": "https://localhost:8080/"
        },
        "id": "sFxh6RirRAqM",
        "outputId": "61bc96b7-e9b1-4ffe-abd4-0266bc6b8c2f"
      },
      "execution_count": 35,
      "outputs": [
        {
          "output_type": "stream",
          "name": "stdout",
          "text": [
            "{'name': 'Apple', 'Qnt': 2}\n"
          ]
        }
      ]
    },
    {
      "cell_type": "code",
      "source": [
        "fruit1={\"name\":\"Apple\",\"Color\":\"red\",\"Qnt\":2}\n",
        "fruit1.popitem()\n",
        "print(fruit1)"
      ],
      "metadata": {
        "colab": {
          "base_uri": "https://localhost:8080/"
        },
        "id": "toGLhIqhRLjB",
        "outputId": "dfb2a92c-818b-4bf7-de9a-70bf8d83c2dd"
      },
      "execution_count": 36,
      "outputs": [
        {
          "output_type": "stream",
          "name": "stdout",
          "text": [
            "{'name': 'Apple', 'Color': 'red'}\n"
          ]
        }
      ]
    },
    {
      "cell_type": "code",
      "source": [
        "thisdict={\n",
        "    \"brand\":\"Honda\",\n",
        "    \"model\":\"Activa 6G\",\n",
        "    \"year\":2020\n",
        "}\n",
        "del thisdict[\"model\"]\n",
        "print(thisdict)"
      ],
      "metadata": {
        "colab": {
          "base_uri": "https://localhost:8080/"
        },
        "id": "P5XA_fyJRVAQ",
        "outputId": "d75bf2f3-2beb-4682-da53-349df00432d2"
      },
      "execution_count": 38,
      "outputs": [
        {
          "output_type": "stream",
          "name": "stdout",
          "text": [
            "{'brand': 'Honda', 'year': 2020}\n"
          ]
        }
      ]
    },
    {
      "cell_type": "code",
      "source": [
        "car=[\"Rolls Royce\",\"jaguar\",\"rolls royce\",\"BMW M2\"]\n",
        "\n",
        "car_list=frozenset(car)\n",
        "print(\"car list:\",car_list)\n",
        "print(\"car:\",(type(car)))\n",
        "print(\"carlist:\",(type(car_list)))\n",
        "\n",
        "fruit=(\"Strawberry\",\"orange\",\"banana\",\"apple\",\"papaya\")\n",
        "\n",
        "fruit_list=frozenset(fruit)\n",
        "print(\"fruits list:\",fruit_list)\n",
        "print(\"fruit:\",(type(fruit)))\n",
        "print(\"fruit list:\",(type(fruit_list)))\n",
        "\n",
        "person={\"name\":\"python\",\"age\":25,\"gender\":\"male\"}\n",
        "\n",
        "person_set=frozenset(fruit)\n",
        "print('personset:',person_set)\n",
        "print(\"person\",type(person))\n",
        "print(\"person set\",(type(person_set)))"
      ],
      "metadata": {
        "colab": {
          "base_uri": "https://localhost:8080/"
        },
        "id": "ZaTI_vWdSr95",
        "outputId": "007d6374-e8aa-48cd-f0f6-ca2a6d243a18"
      },
      "execution_count": 39,
      "outputs": [
        {
          "output_type": "stream",
          "name": "stdout",
          "text": [
            "car list: frozenset({'BMW M2', 'jaguar', 'rolls royce', 'Rolls Royce'})\n",
            "car: <class 'list'>\n",
            "carlist: <class 'frozenset'>\n",
            "fruits list: frozenset({'banana', 'apple', 'papaya', 'orange', 'Strawberry'})\n",
            "fruit: <class 'tuple'>\n",
            "fruit list: <class 'frozenset'>\n",
            "personset: frozenset({'banana', 'apple', 'papaya', 'orange', 'Strawberry'})\n",
            "person <class 'dict'>\n",
            "person set <class 'frozenset'>\n"
          ]
        }
      ]
    },
    {
      "cell_type": "code",
      "source": [
        "fruit1=(\"apple\",\"lemon\",\"banana\",\"orange\",\"grapes\",\"papaya\")\n",
        "fruit2=(\"apple\",\"watermelon\",\"coconut\",\"orange\",\"lemon\")\n",
        "\n",
        "fruit1=frozenset(fruit1)\n",
        "fruit2=frozenset(fruit2)"
      ],
      "metadata": {
        "id": "d7SB6qAMWCr_"
      },
      "execution_count": 40,
      "outputs": []
    },
    {
      "cell_type": "code",
      "source": [
        "person_likes=fruit1.copy()\n",
        "print(person_likes)"
      ],
      "metadata": {
        "colab": {
          "base_uri": "https://localhost:8080/"
        },
        "id": "bfk9SM8WWxOg",
        "outputId": "c2639432-f70b-4c5b-ec64-500139dd566c"
      },
      "execution_count": 43,
      "outputs": [
        {
          "output_type": "stream",
          "name": "stdout",
          "text": [
            "frozenset({'banana', 'apple', 'lemon', 'papaya', 'orange', 'grapes'})\n"
          ]
        }
      ]
    },
    {
      "cell_type": "code",
      "source": [
        "print(fruit1.union(fruit2))"
      ],
      "metadata": {
        "colab": {
          "base_uri": "https://localhost:8080/"
        },
        "id": "AvxKtiJqXBL_",
        "outputId": "711385c6-a81b-435f-9e49-d0034c565ccf"
      },
      "execution_count": 44,
      "outputs": [
        {
          "output_type": "stream",
          "name": "stdout",
          "text": [
            "frozenset({'banana', 'apple', 'coconut', 'lemon', 'papaya', 'orange', 'watermelon', 'grapes'})\n"
          ]
        }
      ]
    },
    {
      "cell_type": "code",
      "source": [
        "print(fruit1.intersection(fruit2))"
      ],
      "metadata": {
        "colab": {
          "base_uri": "https://localhost:8080/"
        },
        "id": "hnknZETSXMFU",
        "outputId": "e39aa629-9cb6-47bb-f493-4d01146629ad"
      },
      "execution_count": 45,
      "outputs": [
        {
          "output_type": "stream",
          "name": "stdout",
          "text": [
            "frozenset({'orange', 'apple', 'lemon'})\n"
          ]
        }
      ]
    },
    {
      "cell_type": "code",
      "source": [
        "print(fruit1.difference(fruit2))"
      ],
      "metadata": {
        "colab": {
          "base_uri": "https://localhost:8080/"
        },
        "id": "XzZztoGBXSFu",
        "outputId": "40cbfa90-51a1-4a90-b0ec-728438334fe8"
      },
      "execution_count": 46,
      "outputs": [
        {
          "output_type": "stream",
          "name": "stdout",
          "text": [
            "frozenset({'banana', 'papaya', 'grapes'})\n"
          ]
        }
      ]
    },
    {
      "cell_type": "code",
      "source": [
        "print(fruit1.symmetric_difference(fruit2))"
      ],
      "metadata": {
        "colab": {
          "base_uri": "https://localhost:8080/"
        },
        "id": "hni6ZsyBXVgW",
        "outputId": "2ec157b4-e9a7-42fb-f3cf-160c450e853f"
      },
      "execution_count": 48,
      "outputs": [
        {
          "output_type": "stream",
          "name": "stdout",
          "text": [
            "frozenset({'banana', 'coconut', 'papaya', 'watermelon', 'grapes'})\n"
          ]
        }
      ]
    },
    {
      "cell_type": "code",
      "source": [
        "A=(\"lemon\",\"banana\",\"orange\",\"grapes\",\"papaya\")\n",
        "B=(\"watermelon\",\"coconut\",\"orange\",\"lemon\")\n",
        "C=(\"coconut\",\"watermelon\")\n",
        "\n",
        "D=frozenset(A)\n",
        "E=frozenset(B)\n",
        "F=frozenset(C)\n",
        "\n",
        "print(D.isdisjoint(E))"
      ],
      "metadata": {
        "colab": {
          "base_uri": "https://localhost:8080/"
        },
        "id": "ZZ3N_IitXu-U",
        "outputId": "932ab92f-bad0-4caf-c711-ab7b4f390fb5"
      },
      "execution_count": 49,
      "outputs": [
        {
          "output_type": "stream",
          "name": "stdout",
          "text": [
            "False\n"
          ]
        }
      ]
    },
    {
      "cell_type": "code",
      "source": [
        "print(F.issubset(E))"
      ],
      "metadata": {
        "colab": {
          "base_uri": "https://localhost:8080/"
        },
        "id": "0ddyrpJ-YOPz",
        "outputId": "c7771d19-c7c9-447b-fe18-6d2422adbfda"
      },
      "execution_count": 50,
      "outputs": [
        {
          "output_type": "stream",
          "name": "stdout",
          "text": [
            "True\n"
          ]
        }
      ]
    },
    {
      "cell_type": "code",
      "source": [
        "print(E.issubset(F))"
      ],
      "metadata": {
        "colab": {
          "base_uri": "https://localhost:8080/"
        },
        "id": "eumZALUcYdeV",
        "outputId": "2995b214-fadd-45aa-dda8-eb06c239efb1"
      },
      "execution_count": 51,
      "outputs": [
        {
          "output_type": "stream",
          "name": "stdout",
          "text": [
            "False\n"
          ]
        }
      ]
    }
  ]
}